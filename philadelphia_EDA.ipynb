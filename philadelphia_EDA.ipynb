{
 "cells": [
  {
   "cell_type": "markdown",
   "id": "be890a5d",
   "metadata": {},
   "source": [
    "__Data Source__ : https://catalog.data.gov/dataset/fatal-crashes"
   ]
  },
  {
   "cell_type": "code",
   "execution_count": 1,
   "id": "0a03fde2",
   "metadata": {},
   "outputs": [],
   "source": [
    "import matplotlib.pyplot as plt\n",
    "import numpy as np\n",
    "import pandas as pd\n",
    "import seaborn as sns"
   ]
  },
  {
   "cell_type": "code",
   "execution_count": 2,
   "id": "8845f486",
   "metadata": {},
   "outputs": [],
   "source": [
    "cols = [\n",
    "    \"objectid\",\n",
    "    \"year\",\n",
    "    \"district\",\n",
    "    \"date_\",\n",
    "    \"primary_st\",\n",
    "    \"age\",\n",
    "    \"sex\",\n",
    "    \"crash_type\",\n",
    "    \"hit_____ru\",\n",
    "    \"veh1\",\n",
    "    \"veh2\",\n",
    "    \"arrest_yes\",\n",
    "    \"investigat\",\n",
    "    \"time_of_day__24hrs_\",\n",
    "    \"lat\",\n",
    "    \"lng\",\n",
    "]"
   ]
  },
  {
   "cell_type": "code",
   "execution_count": 3,
   "id": "5a6f2f30",
   "metadata": {},
   "outputs": [],
   "source": [
    "df = pd.read_csv(\"./fatal_crashes.csv\", usecols=cols)\n",
    "column_mapping = {\n",
    "    \"objectid\": \"crash_id\",\n",
    "    \"district\": \"police_district\",\n",
    "    \"date_\": \"crash_date\",\n",
    "    \"primary_st\": \"primary_street\",\n",
    "    \"sex\": \"victim_gender\",\n",
    "    \"crash_type\": \"collision_type\",\n",
    "    \"hit_____ru\": \"hit_and_run\",\n",
    "    \"veh1\": \"primary_vehicle\",\n",
    "    \"veh2\": \"secondary_vehicle\",\n",
    "    \"arrest_yes\": \"arrest_made\",\n",
    "    \"investigat\": \"investigation_status\",\n",
    "    \"time_of_day__24hrs_\": \"time\",\n",
    "    \"lat\": \"latitude\",\n",
    "    \"lng\": \"longitude\",\n",
    "}\n",
    "\n",
    "df = df.rename(columns=column_mapping)"
   ]
  },
  {
   "cell_type": "code",
   "execution_count": 4,
   "id": "0702a0a4",
   "metadata": {},
   "outputs": [
    {
     "data": {
      "text/html": [
       "<div>\n",
       "<style scoped>\n",
       "    .dataframe tbody tr th:only-of-type {\n",
       "        vertical-align: middle;\n",
       "    }\n",
       "\n",
       "    .dataframe tbody tr th {\n",
       "        vertical-align: top;\n",
       "    }\n",
       "\n",
       "    .dataframe thead th {\n",
       "        text-align: right;\n",
       "    }\n",
       "</style>\n",
       "<table border=\"1\" class=\"dataframe\">\n",
       "  <thead>\n",
       "    <tr style=\"text-align: right;\">\n",
       "      <th></th>\n",
       "      <th>crash_id</th>\n",
       "      <th>year</th>\n",
       "      <th>police_district</th>\n",
       "      <th>crash_date</th>\n",
       "      <th>primary_street</th>\n",
       "      <th>age</th>\n",
       "      <th>victim_gender</th>\n",
       "      <th>collision_type</th>\n",
       "      <th>hit_and_run</th>\n",
       "      <th>primary_vehicle</th>\n",
       "      <th>secondary_vehicle</th>\n",
       "      <th>arrest_made</th>\n",
       "      <th>investigation_status</th>\n",
       "      <th>time</th>\n",
       "      <th>latitude</th>\n",
       "      <th>longitude</th>\n",
       "    </tr>\n",
       "  </thead>\n",
       "  <tbody>\n",
       "    <tr>\n",
       "      <th>268</th>\n",
       "      <td>48182</td>\n",
       "      <td>2021</td>\n",
       "      <td>25</td>\n",
       "      <td>2021-03-14 05:00:00+00</td>\n",
       "      <td>Broad St.</td>\n",
       "      <td>61.0</td>\n",
       "      <td>F</td>\n",
       "      <td>Pedestrian was crossing Broad St. at Lehigh Av...</td>\n",
       "      <td>No</td>\n",
       "      <td>Auto</td>\n",
       "      <td>Pedestrian</td>\n",
       "      <td>Yes</td>\n",
       "      <td>Homicide by vehicle, Inv. Mans. REAP,</td>\n",
       "      <td>NaN</td>\n",
       "      <td>NaN</td>\n",
       "      <td>NaN</td>\n",
       "    </tr>\n",
       "    <tr>\n",
       "      <th>733</th>\n",
       "      <td>48644</td>\n",
       "      <td>2024</td>\n",
       "      <td>8</td>\n",
       "      <td>2024-09-14 04:00:00+00</td>\n",
       "      <td>Leon St.</td>\n",
       "      <td>50.0</td>\n",
       "      <td>M</td>\n",
       "      <td>Unit #1 was traveling north on Leon St. at a h...</td>\n",
       "      <td>No</td>\n",
       "      <td>Auto</td>\n",
       "      <td>Auto</td>\n",
       "      <td>No</td>\n",
       "      <td>The deceased was the cause of the crash.</td>\n",
       "      <td>09:30:00</td>\n",
       "      <td>40.045454</td>\n",
       "      <td>-75.024170</td>\n",
       "    </tr>\n",
       "    <tr>\n",
       "      <th>221</th>\n",
       "      <td>48135</td>\n",
       "      <td>2020</td>\n",
       "      <td>35</td>\n",
       "      <td>2020-11-12 05:00:00+00</td>\n",
       "      <td>Belfield Ave.</td>\n",
       "      <td>69.0</td>\n",
       "      <td>F</td>\n",
       "      <td>Pedestrian was attempting to cross Louden St. ...</td>\n",
       "      <td>Yes</td>\n",
       "      <td>Auto</td>\n",
       "      <td>Pedestrian</td>\n",
       "      <td>Pending</td>\n",
       "      <td>Pending ID of operator.</td>\n",
       "      <td>NaN</td>\n",
       "      <td>40.026574</td>\n",
       "      <td>-75.150783</td>\n",
       "    </tr>\n",
       "  </tbody>\n",
       "</table>\n",
       "</div>"
      ],
      "text/plain": [
       "     crash_id  year  police_district              crash_date primary_street  \\\n",
       "268     48182  2021               25  2021-03-14 05:00:00+00      Broad St.   \n",
       "733     48644  2024                8  2024-09-14 04:00:00+00       Leon St.   \n",
       "221     48135  2020               35  2020-11-12 05:00:00+00  Belfield Ave.   \n",
       "\n",
       "      age victim_gender                                     collision_type  \\\n",
       "268  61.0             F  Pedestrian was crossing Broad St. at Lehigh Av...   \n",
       "733  50.0             M  Unit #1 was traveling north on Leon St. at a h...   \n",
       "221  69.0             F  Pedestrian was attempting to cross Louden St. ...   \n",
       "\n",
       "    hit_and_run primary_vehicle secondary_vehicle arrest_made  \\\n",
       "268          No            Auto        Pedestrian         Yes   \n",
       "733          No            Auto              Auto          No   \n",
       "221         Yes            Auto        Pedestrian     Pending   \n",
       "\n",
       "                         investigation_status      time   latitude  longitude  \n",
       "268     Homicide by vehicle, Inv. Mans. REAP,       NaN        NaN        NaN  \n",
       "733  The deceased was the cause of the crash.  09:30:00  40.045454 -75.024170  \n",
       "221                   Pending ID of operator.       NaN  40.026574 -75.150783  "
      ]
     },
     "execution_count": 4,
     "metadata": {},
     "output_type": "execute_result"
    }
   ],
   "source": [
    "df.sample(3)"
   ]
  },
  {
   "cell_type": "code",
   "execution_count": 5,
   "id": "27590dae",
   "metadata": {},
   "outputs": [
    {
     "name": "stdout",
     "output_type": "stream",
     "text": [
      "<class 'pandas.core.frame.DataFrame'>\n",
      "RangeIndex: 796 entries, 0 to 795\n",
      "Data columns (total 16 columns):\n",
      " #   Column                Non-Null Count  Dtype  \n",
      "---  ------                --------------  -----  \n",
      " 0   crash_id              796 non-null    int64  \n",
      " 1   year                  796 non-null    int64  \n",
      " 2   police_district       796 non-null    int64  \n",
      " 3   crash_date            796 non-null    object \n",
      " 4   primary_street        796 non-null    object \n",
      " 5   age                   791 non-null    float64\n",
      " 6   victim_gender         795 non-null    object \n",
      " 7   collision_type        796 non-null    object \n",
      " 8   hit_and_run           796 non-null    object \n",
      " 9   primary_vehicle       796 non-null    object \n",
      " 10  secondary_vehicle     793 non-null    object \n",
      " 11  arrest_made           780 non-null    object \n",
      " 12  investigation_status  792 non-null    object \n",
      " 13  time                  291 non-null    object \n",
      " 14  latitude              782 non-null    float64\n",
      " 15  longitude             782 non-null    float64\n",
      "dtypes: float64(3), int64(3), object(10)\n",
      "memory usage: 99.6+ KB\n"
     ]
    }
   ],
   "source": [
    "df.info()"
   ]
  },
  {
   "cell_type": "code",
   "execution_count": 6,
   "id": "fbf1eea3",
   "metadata": {},
   "outputs": [
    {
     "data": {
      "text/plain": [
       "crash_id                  0\n",
       "year                      0\n",
       "police_district           0\n",
       "crash_date                0\n",
       "primary_street            0\n",
       "age                       5\n",
       "victim_gender             1\n",
       "collision_type            0\n",
       "hit_and_run               0\n",
       "primary_vehicle           0\n",
       "secondary_vehicle         3\n",
       "arrest_made              16\n",
       "investigation_status      4\n",
       "time                    505\n",
       "latitude                 14\n",
       "longitude                14\n",
       "dtype: int64"
      ]
     },
     "execution_count": 6,
     "metadata": {},
     "output_type": "execute_result"
    }
   ],
   "source": [
    "df.isnull().sum()"
   ]
  },
  {
   "cell_type": "code",
   "execution_count": 7,
   "id": "3b21d433",
   "metadata": {},
   "outputs": [
    {
     "data": {
      "text/html": [
       "<div>\n",
       "<style scoped>\n",
       "    .dataframe tbody tr th:only-of-type {\n",
       "        vertical-align: middle;\n",
       "    }\n",
       "\n",
       "    .dataframe tbody tr th {\n",
       "        vertical-align: top;\n",
       "    }\n",
       "\n",
       "    .dataframe thead th {\n",
       "        text-align: right;\n",
       "    }\n",
       "</style>\n",
       "<table border=\"1\" class=\"dataframe\">\n",
       "  <thead>\n",
       "    <tr style=\"text-align: right;\">\n",
       "      <th></th>\n",
       "      <th>crash_id</th>\n",
       "      <th>year</th>\n",
       "      <th>police_district</th>\n",
       "      <th>age</th>\n",
       "      <th>latitude</th>\n",
       "      <th>longitude</th>\n",
       "    </tr>\n",
       "  </thead>\n",
       "  <tbody>\n",
       "    <tr>\n",
       "      <th>count</th>\n",
       "      <td>796.000000</td>\n",
       "      <td>796.000000</td>\n",
       "      <td>796.000000</td>\n",
       "      <td>791.000000</td>\n",
       "      <td>782.000000</td>\n",
       "      <td>782.000000</td>\n",
       "    </tr>\n",
       "    <tr>\n",
       "      <th>mean</th>\n",
       "      <td>48311.500000</td>\n",
       "      <td>2021.708543</td>\n",
       "      <td>18.410804</td>\n",
       "      <td>43.342604</td>\n",
       "      <td>40.011418</td>\n",
       "      <td>-75.156395</td>\n",
       "    </tr>\n",
       "    <tr>\n",
       "      <th>std</th>\n",
       "      <td>229.929699</td>\n",
       "      <td>1.746292</td>\n",
       "      <td>10.887109</td>\n",
       "      <td>18.776303</td>\n",
       "      <td>0.145467</td>\n",
       "      <td>0.338102</td>\n",
       "    </tr>\n",
       "    <tr>\n",
       "      <th>min</th>\n",
       "      <td>47914.000000</td>\n",
       "      <td>2019.000000</td>\n",
       "      <td>1.000000</td>\n",
       "      <td>0.000000</td>\n",
       "      <td>39.884438</td>\n",
       "      <td>-80.502372</td>\n",
       "    </tr>\n",
       "    <tr>\n",
       "      <th>25%</th>\n",
       "      <td>48112.750000</td>\n",
       "      <td>2020.000000</td>\n",
       "      <td>9.000000</td>\n",
       "      <td>29.000000</td>\n",
       "      <td>39.974932</td>\n",
       "      <td>-75.179845</td>\n",
       "    </tr>\n",
       "    <tr>\n",
       "      <th>50%</th>\n",
       "      <td>48311.500000</td>\n",
       "      <td>2022.000000</td>\n",
       "      <td>17.000000</td>\n",
       "      <td>40.000000</td>\n",
       "      <td>40.005547</td>\n",
       "      <td>-75.144203</td>\n",
       "    </tr>\n",
       "    <tr>\n",
       "      <th>75%</th>\n",
       "      <td>48510.250000</td>\n",
       "      <td>2023.000000</td>\n",
       "      <td>25.000000</td>\n",
       "      <td>58.000000</td>\n",
       "      <td>40.033044</td>\n",
       "      <td>-75.097381</td>\n",
       "    </tr>\n",
       "    <tr>\n",
       "      <th>max</th>\n",
       "      <td>48709.000000</td>\n",
       "      <td>2025.000000</td>\n",
       "      <td>77.000000</td>\n",
       "      <td>99.000000</td>\n",
       "      <td>42.224336</td>\n",
       "      <td>-74.961302</td>\n",
       "    </tr>\n",
       "  </tbody>\n",
       "</table>\n",
       "</div>"
      ],
      "text/plain": [
       "           crash_id         year  police_district         age    latitude  \\\n",
       "count    796.000000   796.000000       796.000000  791.000000  782.000000   \n",
       "mean   48311.500000  2021.708543        18.410804   43.342604   40.011418   \n",
       "std      229.929699     1.746292        10.887109   18.776303    0.145467   \n",
       "min    47914.000000  2019.000000         1.000000    0.000000   39.884438   \n",
       "25%    48112.750000  2020.000000         9.000000   29.000000   39.974932   \n",
       "50%    48311.500000  2022.000000        17.000000   40.000000   40.005547   \n",
       "75%    48510.250000  2023.000000        25.000000   58.000000   40.033044   \n",
       "max    48709.000000  2025.000000        77.000000   99.000000   42.224336   \n",
       "\n",
       "        longitude  \n",
       "count  782.000000  \n",
       "mean   -75.156395  \n",
       "std      0.338102  \n",
       "min    -80.502372  \n",
       "25%    -75.179845  \n",
       "50%    -75.144203  \n",
       "75%    -75.097381  \n",
       "max    -74.961302  "
      ]
     },
     "execution_count": 7,
     "metadata": {},
     "output_type": "execute_result"
    }
   ],
   "source": [
    "df.describe()"
   ]
  },
  {
   "cell_type": "code",
   "execution_count": 8,
   "id": "560914d7",
   "metadata": {},
   "outputs": [
    {
     "data": {
      "text/html": [
       "<div>\n",
       "<style scoped>\n",
       "    .dataframe tbody tr th:only-of-type {\n",
       "        vertical-align: middle;\n",
       "    }\n",
       "\n",
       "    .dataframe tbody tr th {\n",
       "        vertical-align: top;\n",
       "    }\n",
       "\n",
       "    .dataframe thead th {\n",
       "        text-align: right;\n",
       "    }\n",
       "</style>\n",
       "<table border=\"1\" class=\"dataframe\">\n",
       "  <thead>\n",
       "    <tr style=\"text-align: right;\">\n",
       "      <th></th>\n",
       "      <th>crash_id</th>\n",
       "      <th>year</th>\n",
       "      <th>police_district</th>\n",
       "      <th>crash_date</th>\n",
       "      <th>primary_street</th>\n",
       "      <th>age</th>\n",
       "      <th>victim_gender</th>\n",
       "      <th>collision_type</th>\n",
       "      <th>hit_and_run</th>\n",
       "      <th>primary_vehicle</th>\n",
       "      <th>secondary_vehicle</th>\n",
       "      <th>arrest_made</th>\n",
       "      <th>investigation_status</th>\n",
       "      <th>time</th>\n",
       "      <th>latitude</th>\n",
       "      <th>longitude</th>\n",
       "    </tr>\n",
       "  </thead>\n",
       "  <tbody>\n",
       "    <tr>\n",
       "      <th>385</th>\n",
       "      <td>48299</td>\n",
       "      <td>2022</td>\n",
       "      <td>22</td>\n",
       "      <td>2022-01-13</td>\n",
       "      <td>Broad St.</td>\n",
       "      <td>24.0</td>\n",
       "      <td>M</td>\n",
       "      <td>Unit #1 N/B on Broad St. fleeing police and di...</td>\n",
       "      <td>No</td>\n",
       "      <td>Auto</td>\n",
       "      <td>Auto</td>\n",
       "      <td>Yes</td>\n",
       "      <td>HBV. Inv. Mans. Murder, K &amp; I, VUFA</td>\n",
       "      <td>NaN</td>\n",
       "      <td>39.974492</td>\n",
       "      <td>-75.158785</td>\n",
       "    </tr>\n",
       "    <tr>\n",
       "      <th>625</th>\n",
       "      <td>48537</td>\n",
       "      <td>2023</td>\n",
       "      <td>12</td>\n",
       "      <td>2023-11-29</td>\n",
       "      <td>7800 Bartram Ave.</td>\n",
       "      <td>51.0</td>\n",
       "      <td>M</td>\n",
       "      <td>Unit #1 was southbound on Bartram Ave when it ...</td>\n",
       "      <td>No</td>\n",
       "      <td>Auto</td>\n",
       "      <td>Fixed Object</td>\n",
       "      <td>No</td>\n",
       "      <td>No crime involved in this crash</td>\n",
       "      <td>05:49:00</td>\n",
       "      <td>39.894555</td>\n",
       "      <td>-75.229540</td>\n",
       "    </tr>\n",
       "    <tr>\n",
       "      <th>733</th>\n",
       "      <td>48644</td>\n",
       "      <td>2024</td>\n",
       "      <td>8</td>\n",
       "      <td>2024-09-14</td>\n",
       "      <td>Leon St.</td>\n",
       "      <td>50.0</td>\n",
       "      <td>M</td>\n",
       "      <td>Unit #1 was traveling north on Leon St. at a h...</td>\n",
       "      <td>No</td>\n",
       "      <td>Auto</td>\n",
       "      <td>Auto</td>\n",
       "      <td>No</td>\n",
       "      <td>The deceased was the cause of the crash.</td>\n",
       "      <td>09:30:00</td>\n",
       "      <td>40.045454</td>\n",
       "      <td>-75.024170</td>\n",
       "    </tr>\n",
       "  </tbody>\n",
       "</table>\n",
       "</div>"
      ],
      "text/plain": [
       "     crash_id  year  police_district crash_date     primary_street   age  \\\n",
       "385     48299  2022               22 2022-01-13          Broad St.  24.0   \n",
       "625     48537  2023               12 2023-11-29  7800 Bartram Ave.  51.0   \n",
       "733     48644  2024                8 2024-09-14           Leon St.  50.0   \n",
       "\n",
       "    victim_gender                                     collision_type  \\\n",
       "385             M  Unit #1 N/B on Broad St. fleeing police and di...   \n",
       "625             M  Unit #1 was southbound on Bartram Ave when it ...   \n",
       "733             M  Unit #1 was traveling north on Leon St. at a h...   \n",
       "\n",
       "    hit_and_run primary_vehicle secondary_vehicle arrest_made  \\\n",
       "385          No            Auto              Auto         Yes   \n",
       "625          No            Auto      Fixed Object          No   \n",
       "733          No            Auto              Auto          No   \n",
       "\n",
       "                         investigation_status      time   latitude  longitude  \n",
       "385       HBV. Inv. Mans. Murder, K & I, VUFA       NaN  39.974492 -75.158785  \n",
       "625           No crime involved in this crash  05:49:00  39.894555 -75.229540  \n",
       "733  The deceased was the cause of the crash.  09:30:00  40.045454 -75.024170  "
      ]
     },
     "execution_count": 8,
     "metadata": {},
     "output_type": "execute_result"
    }
   ],
   "source": [
    "df[\"crash_date\"] = df[\"crash_date\"].str.split().str[0]\n",
    "df[\"crash_date\"] = pd.to_datetime(df[\"crash_date\"])\n",
    "df.sample(3)"
   ]
  },
  {
   "cell_type": "code",
   "execution_count": 9,
   "id": "53fa1b78",
   "metadata": {},
   "outputs": [],
   "source": [
    "df.insert(\n",
    "    loc=df.columns.get_loc(\"crash_date\") + 1,\n",
    "    column=\"day_name\",\n",
    "    value=df[\"crash_date\"].dt.day_name(),\n",
    ")"
   ]
  },
  {
   "cell_type": "code",
   "execution_count": 10,
   "id": "18aeeeb3",
   "metadata": {},
   "outputs": [
    {
     "data": {
      "text/plain": [
       "crash_id                         int64\n",
       "year                             int64\n",
       "police_district                  int64\n",
       "crash_date              datetime64[ns]\n",
       "day_name                        object\n",
       "primary_street                  object\n",
       "age                            float64\n",
       "victim_gender                   object\n",
       "collision_type                  object\n",
       "hit_and_run                     object\n",
       "primary_vehicle                 object\n",
       "secondary_vehicle               object\n",
       "arrest_made                     object\n",
       "investigation_status            object\n",
       "time                            object\n",
       "latitude                       float64\n",
       "longitude                      float64\n",
       "dtype: object"
      ]
     },
     "execution_count": 10,
     "metadata": {},
     "output_type": "execute_result"
    }
   ],
   "source": [
    "df.dtypes"
   ]
  },
  {
   "cell_type": "code",
   "execution_count": 11,
   "id": "57988e43",
   "metadata": {},
   "outputs": [],
   "source": [
    "dtypes_dict = {\n",
    "    \"crash_id\": \"int64\",\n",
    "    \"year\": \"int64\",\n",
    "    \"police_district\": \"int64\",\n",
    "    \"crash_date\": \"datetime64[ns]\",\n",
    "    \"day_name\": \"object\",\n",
    "    \"primary_street\": \"object\",\n",
    "    \"age\": \"float64\",\n",
    "    \"victim_gender\": \"object\",\n",
    "    \"collision_type\": \"object\",\n",
    "    \"hit_and_run\": \"object\",\n",
    "    \"primary_vehicle\": \"object\",\n",
    "    \"secondary_vehicle\": \"object\",\n",
    "    \"arrest_made\": \"object\",\n",
    "    \"investigation_status\": \"object\",\n",
    "    \"time\": \"object\",\n",
    "    \"latitude\": \"float64\",\n",
    "    \"longitude\": \"float64\",\n",
    "}"
   ]
  },
  {
   "cell_type": "code",
   "execution_count": 12,
   "id": "d353bb5c",
   "metadata": {},
   "outputs": [],
   "source": [
    "df = df.astype(dtypes_dict)"
   ]
  },
  {
   "cell_type": "code",
   "execution_count": 13,
   "id": "a83ef3b1",
   "metadata": {},
   "outputs": [
    {
     "data": {
      "text/plain": [
       "array(['No', 'Yes', 'Unk', '??'], dtype=object)"
      ]
     },
     "execution_count": 13,
     "metadata": {},
     "output_type": "execute_result"
    }
   ],
   "source": [
    "df[\"hit_and_run\"].unique()"
   ]
  },
  {
   "cell_type": "code",
   "execution_count": 14,
   "id": "e26749ef",
   "metadata": {},
   "outputs": [],
   "source": [
    "df[\"hit_and_run\"] = np.where(\n",
    "    df[\"hit_and_run\"] == \"Yes\", 1, np.where(df[\"hit_and_run\"] == \"No\", 0, np.nan)\n",
    ")"
   ]
  },
  {
   "cell_type": "code",
   "execution_count": 15,
   "id": "21a8d4ca",
   "metadata": {},
   "outputs": [
    {
     "data": {
      "text/plain": [
       "array([ 0.,  1., nan])"
      ]
     },
     "execution_count": 15,
     "metadata": {},
     "output_type": "execute_result"
    }
   ],
   "source": [
    "df[\"hit_and_run\"].unique()"
   ]
  },
  {
   "cell_type": "code",
   "execution_count": 16,
   "id": "e420aec1",
   "metadata": {},
   "outputs": [
    {
     "data": {
      "text/plain": [
       "array(['Yes', 'No', nan, 'Pending', 'Pending ID', 'Unk.', 'TBD',\n",
       "       'Arrested', 'None expected', 'N', 'No '], dtype=object)"
      ]
     },
     "execution_count": 16,
     "metadata": {},
     "output_type": "execute_result"
    }
   ],
   "source": [
    "df[\"arrest_made\"].unique()"
   ]
  },
  {
   "cell_type": "code",
   "execution_count": 17,
   "id": "c56817c6",
   "metadata": {},
   "outputs": [
    {
     "data": {
      "text/plain": [
       "arrest_made\n",
       "No               549\n",
       "Pending          147\n",
       "Yes               73\n",
       "No                 4\n",
       "TBD                2\n",
       "Pending ID         1\n",
       "Unk.               1\n",
       "Arrested           1\n",
       "None expected      1\n",
       "N                  1\n",
       "Name: count, dtype: int64"
      ]
     },
     "execution_count": 17,
     "metadata": {},
     "output_type": "execute_result"
    }
   ],
   "source": [
    "df[\"arrest_made\"].value_counts()"
   ]
  },
  {
   "cell_type": "code",
   "execution_count": 18,
   "id": "091e742d",
   "metadata": {},
   "outputs": [
    {
     "data": {
      "text/plain": [
       "crash_id                         int64\n",
       "year                             int64\n",
       "police_district                  int64\n",
       "crash_date              datetime64[ns]\n",
       "day_name                        object\n",
       "primary_street                  object\n",
       "age                            float64\n",
       "victim_gender                   object\n",
       "collision_type                  object\n",
       "hit_and_run                    float64\n",
       "primary_vehicle                 object\n",
       "secondary_vehicle               object\n",
       "arrest_made                     object\n",
       "investigation_status            object\n",
       "time                            object\n",
       "latitude                       float64\n",
       "longitude                      float64\n",
       "dtype: object"
      ]
     },
     "execution_count": 18,
     "metadata": {},
     "output_type": "execute_result"
    }
   ],
   "source": [
    "df.dtypes"
   ]
  },
  {
   "cell_type": "code",
   "execution_count": 19,
   "id": "f72766f9",
   "metadata": {},
   "outputs": [
    {
     "data": {
      "text/html": [
       "<div>\n",
       "<style scoped>\n",
       "    .dataframe tbody tr th:only-of-type {\n",
       "        vertical-align: middle;\n",
       "    }\n",
       "\n",
       "    .dataframe tbody tr th {\n",
       "        vertical-align: top;\n",
       "    }\n",
       "\n",
       "    .dataframe thead th {\n",
       "        text-align: right;\n",
       "    }\n",
       "</style>\n",
       "<table border=\"1\" class=\"dataframe\">\n",
       "  <thead>\n",
       "    <tr style=\"text-align: right;\">\n",
       "      <th></th>\n",
       "      <th>year</th>\n",
       "      <th>count</th>\n",
       "    </tr>\n",
       "  </thead>\n",
       "  <tbody>\n",
       "    <tr>\n",
       "      <th>0</th>\n",
       "      <td>2020</td>\n",
       "      <td>156</td>\n",
       "    </tr>\n",
       "    <tr>\n",
       "      <th>1</th>\n",
       "      <td>2024</td>\n",
       "      <td>134</td>\n",
       "    </tr>\n",
       "    <tr>\n",
       "      <th>2</th>\n",
       "      <td>2021</td>\n",
       "      <td>133</td>\n",
       "    </tr>\n",
       "    <tr>\n",
       "      <th>3</th>\n",
       "      <td>2023</td>\n",
       "      <td>128</td>\n",
       "    </tr>\n",
       "    <tr>\n",
       "      <th>4</th>\n",
       "      <td>2022</td>\n",
       "      <td>126</td>\n",
       "    </tr>\n",
       "    <tr>\n",
       "      <th>5</th>\n",
       "      <td>2019</td>\n",
       "      <td>90</td>\n",
       "    </tr>\n",
       "    <tr>\n",
       "      <th>6</th>\n",
       "      <td>2025</td>\n",
       "      <td>29</td>\n",
       "    </tr>\n",
       "  </tbody>\n",
       "</table>\n",
       "</div>"
      ],
      "text/plain": [
       "   year  count\n",
       "0  2020    156\n",
       "1  2024    134\n",
       "2  2021    133\n",
       "3  2023    128\n",
       "4  2022    126\n",
       "5  2019     90\n",
       "6  2025     29"
      ]
     },
     "execution_count": 19,
     "metadata": {},
     "output_type": "execute_result"
    }
   ],
   "source": [
    "acc_by_year = df[\"year\"].value_counts().rename(\"count\").reset_index()\n",
    "acc_by_year"
   ]
  },
  {
   "cell_type": "code",
   "execution_count": 20,
   "id": "5a14a3bd",
   "metadata": {},
   "outputs": [
    {
     "data": {
      "text/plain": [
       "pandas.core.frame.DataFrame"
      ]
     },
     "execution_count": 20,
     "metadata": {},
     "output_type": "execute_result"
    }
   ],
   "source": [
    "type(acc_by_year)"
   ]
  },
  {
   "cell_type": "code",
   "execution_count": 21,
   "id": "3ba25f9e",
   "metadata": {},
   "outputs": [
    {
     "data": {
      "image/png": "[encoded data removed]",
      "text/plain": [
       "<Figure size 1000x600 with 1 Axes>"
      ]
     },
     "metadata": {},
     "output_type": "display_data"
    }
   ],
   "source": [
    "plt.figure(figsize=(10, 6))\n",
    "\n",
    "\n",
    "bar_plot = sns.barplot(\n",
    "    data=acc_by_year,\n",
    "    x=\"year\",\n",
    "    y=\"count\",\n",
    "    color=\"steelblue\",\n",
    "    order=sorted(acc_by_year[\"year\"]),\n",
    ")\n",
    "\n",
    "\n",
    "plt.title(\"Accidents by Year\", fontsize=14, pad=20)\n",
    "plt.xlabel(\"Year\", fontsize=12)\n",
    "plt.ylabel(\"Number of Accidents\", fontsize=12)\n",
    "plt.xticks(rotation=45)\n",
    "\n",
    "for p in bar_plot.patches:\n",
    "    bar_plot.annotate(\n",
    "        format(p.get_height(), \".0f\"),\n",
    "        (p.get_x() + p.get_width() / 2.0, p.get_height()),\n",
    "        ha=\"center\",\n",
    "        va=\"center\",\n",
    "        xytext=(0, 5),\n",
    "        textcoords=\"offset points\",\n",
    "        fontsize=10,\n",
    "    )\n",
    "\n",
    "\n",
    "plt.tight_layout()\n",
    "plt.show()"
   ]
  },
  {
   "cell_type": "code",
   "execution_count": 22,
   "id": "20d564d1",
   "metadata": {},
   "outputs": [],
   "source": [
    "acc_by_police_dist = df[\"police_district\"].value_counts().rename(\"count\").reset_index()"
   ]
  },
  {
   "cell_type": "code",
   "execution_count": 23,
   "id": "fdfd4352",
   "metadata": {},
   "outputs": [
    {
     "data": {
      "text/html": [
       "<div>\n",
       "<style scoped>\n",
       "    .dataframe tbody tr th:only-of-type {\n",
       "        vertical-align: middle;\n",
       "    }\n",
       "\n",
       "    .dataframe tbody tr th {\n",
       "        vertical-align: top;\n",
       "    }\n",
       "\n",
       "    .dataframe thead th {\n",
       "        text-align: right;\n",
       "    }\n",
       "</style>\n",
       "<table border=\"1\" class=\"dataframe\">\n",
       "  <thead>\n",
       "    <tr style=\"text-align: right;\">\n",
       "      <th></th>\n",
       "      <th>police_district</th>\n",
       "      <th>count</th>\n",
       "    </tr>\n",
       "  </thead>\n",
       "  <tbody>\n",
       "    <tr>\n",
       "      <th>0</th>\n",
       "      <td>25</td>\n",
       "      <td>85</td>\n",
       "    </tr>\n",
       "    <tr>\n",
       "      <th>1</th>\n",
       "      <td>15</td>\n",
       "      <td>84</td>\n",
       "    </tr>\n",
       "    <tr>\n",
       "      <th>2</th>\n",
       "      <td>24</td>\n",
       "      <td>70</td>\n",
       "    </tr>\n",
       "    <tr>\n",
       "      <th>3</th>\n",
       "      <td>39</td>\n",
       "      <td>64</td>\n",
       "    </tr>\n",
       "    <tr>\n",
       "      <th>4</th>\n",
       "      <td>35</td>\n",
       "      <td>52</td>\n",
       "    </tr>\n",
       "    <tr>\n",
       "      <th>5</th>\n",
       "      <td>12</td>\n",
       "      <td>49</td>\n",
       "    </tr>\n",
       "    <tr>\n",
       "      <th>6</th>\n",
       "      <td>2</td>\n",
       "      <td>46</td>\n",
       "    </tr>\n",
       "    <tr>\n",
       "      <th>7</th>\n",
       "      <td>8</td>\n",
       "      <td>42</td>\n",
       "    </tr>\n",
       "    <tr>\n",
       "      <th>8</th>\n",
       "      <td>22</td>\n",
       "      <td>42</td>\n",
       "    </tr>\n",
       "    <tr>\n",
       "      <th>9</th>\n",
       "      <td>19</td>\n",
       "      <td>37</td>\n",
       "    </tr>\n",
       "    <tr>\n",
       "      <th>10</th>\n",
       "      <td>7</td>\n",
       "      <td>33</td>\n",
       "    </tr>\n",
       "    <tr>\n",
       "      <th>11</th>\n",
       "      <td>16</td>\n",
       "      <td>31</td>\n",
       "    </tr>\n",
       "    <tr>\n",
       "      <th>12</th>\n",
       "      <td>3</td>\n",
       "      <td>30</td>\n",
       "    </tr>\n",
       "    <tr>\n",
       "      <th>13</th>\n",
       "      <td>14</td>\n",
       "      <td>30</td>\n",
       "    </tr>\n",
       "    <tr>\n",
       "      <th>14</th>\n",
       "      <td>26</td>\n",
       "      <td>23</td>\n",
       "    </tr>\n",
       "    <tr>\n",
       "      <th>15</th>\n",
       "      <td>18</td>\n",
       "      <td>20</td>\n",
       "    </tr>\n",
       "    <tr>\n",
       "      <th>16</th>\n",
       "      <td>1</td>\n",
       "      <td>15</td>\n",
       "    </tr>\n",
       "    <tr>\n",
       "      <th>17</th>\n",
       "      <td>9</td>\n",
       "      <td>15</td>\n",
       "    </tr>\n",
       "    <tr>\n",
       "      <th>18</th>\n",
       "      <td>6</td>\n",
       "      <td>14</td>\n",
       "    </tr>\n",
       "    <tr>\n",
       "      <th>19</th>\n",
       "      <td>5</td>\n",
       "      <td>8</td>\n",
       "    </tr>\n",
       "    <tr>\n",
       "      <th>20</th>\n",
       "      <td>17</td>\n",
       "      <td>5</td>\n",
       "    </tr>\n",
       "    <tr>\n",
       "      <th>21</th>\n",
       "      <td>77</td>\n",
       "      <td>1</td>\n",
       "    </tr>\n",
       "  </tbody>\n",
       "</table>\n",
       "</div>"
      ],
      "text/plain": [
       "    police_district  count\n",
       "0                25     85\n",
       "1                15     84\n",
       "2                24     70\n",
       "3                39     64\n",
       "4                35     52\n",
       "5                12     49\n",
       "6                 2     46\n",
       "7                 8     42\n",
       "8                22     42\n",
       "9                19     37\n",
       "10                7     33\n",
       "11               16     31\n",
       "12                3     30\n",
       "13               14     30\n",
       "14               26     23\n",
       "15               18     20\n",
       "16                1     15\n",
       "17                9     15\n",
       "18                6     14\n",
       "19                5      8\n",
       "20               17      5\n",
       "21               77      1"
      ]
     },
     "execution_count": 23,
     "metadata": {},
     "output_type": "execute_result"
    }
   ],
   "source": [
    "acc_by_police_dist"
   ]
  },
  {
   "cell_type": "code",
   "execution_count": 24,
   "id": "b33c072d",
   "metadata": {},
   "outputs": [
    {
     "data": {
      "image/png": "[encoded data removed]",
      "text/plain": [
       "<Figure size 1000x600 with 1 Axes>"
      ]
     },
     "metadata": {},
     "output_type": "display_data"
    }
   ],
   "source": [
    "plt.figure(figsize=(10, 6))\n",
    "\n",
    "\n",
    "bar_plot = sns.barplot(\n",
    "    data=acc_by_police_dist, x=\"police_district\", y=\"count\", color=\"steelblue\"\n",
    ")\n",
    "\n",
    "\n",
    "plt.title(\"Accidents by Police Districts\", fontsize=14, pad=20)\n",
    "plt.xlabel(\"Police District\", fontsize=12)\n",
    "plt.ylabel(\"Number of Accidents\", fontsize=12)\n",
    "plt.xticks()\n",
    "\n",
    "for p in bar_plot.patches:\n",
    "    bar_plot.annotate(\n",
    "        format(p.get_height(), \".0f\"),\n",
    "        (p.get_x() + p.get_width() / 2.0, p.get_height()),\n",
    "        ha=\"center\",\n",
    "        va=\"center\",\n",
    "        xytext=(0, 5),\n",
    "        textcoords=\"offset points\",\n",
    "        fontsize=10,\n",
    "    )\n",
    "\n",
    "\n",
    "plt.tight_layout()\n",
    "plt.show()"
   ]
  },
  {
   "cell_type": "code",
   "execution_count": 25,
   "id": "401d1b55",
   "metadata": {},
   "outputs": [
    {
     "data": {
      "text/html": [
       "<div>\n",
       "<style scoped>\n",
       "    .dataframe tbody tr th:only-of-type {\n",
       "        vertical-align: middle;\n",
       "    }\n",
       "\n",
       "    .dataframe tbody tr th {\n",
       "        vertical-align: top;\n",
       "    }\n",
       "\n",
       "    .dataframe thead th {\n",
       "        text-align: right;\n",
       "    }\n",
       "</style>\n",
       "<table border=\"1\" class=\"dataframe\">\n",
       "  <thead>\n",
       "    <tr style=\"text-align: right;\">\n",
       "      <th></th>\n",
       "      <th>day_name</th>\n",
       "      <th>count</th>\n",
       "    </tr>\n",
       "  </thead>\n",
       "  <tbody>\n",
       "    <tr>\n",
       "      <th>2</th>\n",
       "      <td>Friday</td>\n",
       "      <td>123</td>\n",
       "    </tr>\n",
       "    <tr>\n",
       "      <th>4</th>\n",
       "      <td>Monday</td>\n",
       "      <td>101</td>\n",
       "    </tr>\n",
       "    <tr>\n",
       "      <th>0</th>\n",
       "      <td>Saturday</td>\n",
       "      <td>143</td>\n",
       "    </tr>\n",
       "    <tr>\n",
       "      <th>1</th>\n",
       "      <td>Sunday</td>\n",
       "      <td>133</td>\n",
       "    </tr>\n",
       "    <tr>\n",
       "      <th>6</th>\n",
       "      <td>Thursday</td>\n",
       "      <td>90</td>\n",
       "    </tr>\n",
       "    <tr>\n",
       "      <th>5</th>\n",
       "      <td>Tuesday</td>\n",
       "      <td>101</td>\n",
       "    </tr>\n",
       "    <tr>\n",
       "      <th>3</th>\n",
       "      <td>Wednesday</td>\n",
       "      <td>105</td>\n",
       "    </tr>\n",
       "  </tbody>\n",
       "</table>\n",
       "</div>"
      ],
      "text/plain": [
       "    day_name  count\n",
       "2     Friday    123\n",
       "4     Monday    101\n",
       "0   Saturday    143\n",
       "1     Sunday    133\n",
       "6   Thursday     90\n",
       "5    Tuesday    101\n",
       "3  Wednesday    105"
      ]
     },
     "execution_count": 25,
     "metadata": {},
     "output_type": "execute_result"
    }
   ],
   "source": [
    "acc_by_day = df[\"day_name\"].value_counts().reset_index().sort_values(\"day_name\")\n",
    "acc_by_day"
   ]
  },
  {
   "cell_type": "code",
   "execution_count": 26,
   "id": "321a324a",
   "metadata": {},
   "outputs": [
    {
     "data": {
      "text/html": [
       "<div>\n",
       "<style scoped>\n",
       "    .dataframe tbody tr th:only-of-type {\n",
       "        vertical-align: middle;\n",
       "    }\n",
       "\n",
       "    .dataframe tbody tr th {\n",
       "        vertical-align: top;\n",
       "    }\n",
       "\n",
       "    .dataframe thead th {\n",
       "        text-align: right;\n",
       "    }\n",
       "</style>\n",
       "<table border=\"1\" class=\"dataframe\">\n",
       "  <thead>\n",
       "    <tr style=\"text-align: right;\">\n",
       "      <th></th>\n",
       "      <th>day_name</th>\n",
       "      <th>count</th>\n",
       "    </tr>\n",
       "  </thead>\n",
       "  <tbody>\n",
       "    <tr>\n",
       "      <th>0</th>\n",
       "      <td>Monday</td>\n",
       "      <td>101</td>\n",
       "    </tr>\n",
       "    <tr>\n",
       "      <th>1</th>\n",
       "      <td>Tuesday</td>\n",
       "      <td>101</td>\n",
       "    </tr>\n",
       "    <tr>\n",
       "      <th>2</th>\n",
       "      <td>Wednesday</td>\n",
       "      <td>105</td>\n",
       "    </tr>\n",
       "    <tr>\n",
       "      <th>3</th>\n",
       "      <td>Thursday</td>\n",
       "      <td>90</td>\n",
       "    </tr>\n",
       "    <tr>\n",
       "      <th>4</th>\n",
       "      <td>Friday</td>\n",
       "      <td>123</td>\n",
       "    </tr>\n",
       "    <tr>\n",
       "      <th>5</th>\n",
       "      <td>Saturday</td>\n",
       "      <td>143</td>\n",
       "    </tr>\n",
       "    <tr>\n",
       "      <th>6</th>\n",
       "      <td>Sunday</td>\n",
       "      <td>133</td>\n",
       "    </tr>\n",
       "  </tbody>\n",
       "</table>\n",
       "</div>"
      ],
      "text/plain": [
       "    day_name  count\n",
       "0     Monday    101\n",
       "1    Tuesday    101\n",
       "2  Wednesday    105\n",
       "3   Thursday     90\n",
       "4     Friday    123\n",
       "5   Saturday    143\n",
       "6     Sunday    133"
      ]
     },
     "execution_count": 26,
     "metadata": {},
     "output_type": "execute_result"
    }
   ],
   "source": [
    "day_order = [\n",
    "    \"Monday\",\n",
    "    \"Tuesday\",\n",
    "    \"Wednesday\",\n",
    "    \"Thursday\",\n",
    "    \"Friday\",\n",
    "    \"Saturday\",\n",
    "    \"Sunday\",\n",
    "]\n",
    "\n",
    "acc_by_day = (\n",
    "    df[\"day_name\"]\n",
    "    .value_counts()\n",
    "    .reindex(day_order)\n",
    "    .reset_index()\n",
    "    .rename(columns={\"index\": \"day_name\", \"day_name\": \"day_name\"})\n",
    ")\n",
    "acc_by_day"
   ]
  },
  {
   "cell_type": "code",
   "execution_count": 27,
   "id": "aa1a33be",
   "metadata": {},
   "outputs": [
    {
     "data": {
      "image/png": "[encoded data removed]",
      "text/plain": [
       "<Figure size 1000x600 with 1 Axes>"
      ]
     },
     "metadata": {},
     "output_type": "display_data"
    }
   ],
   "source": [
    "plt.figure(figsize=(10, 6))\n",
    "\n",
    "\n",
    "bar_plot = sns.barplot(data=acc_by_day, x=\"day_name\", y=\"count\", color=\"steelblue\")\n",
    "\n",
    "\n",
    "plt.title(\"Accidents by Days of the Weeks\", fontsize=14, pad=20)\n",
    "plt.xlabel(\"Days\", fontsize=12)\n",
    "plt.ylabel(\"Number of Accidents\", fontsize=12)\n",
    "plt.xticks()\n",
    "\n",
    "for p in bar_plot.patches:\n",
    "    bar_plot.annotate(\n",
    "        format(p.get_height(), \".0f\"),\n",
    "        (p.get_x() + p.get_width() / 2.0, p.get_height()),\n",
    "        ha=\"center\",\n",
    "        va=\"center\",\n",
    "        xytext=(0, 5),\n",
    "        textcoords=\"offset points\",\n",
    "        fontsize=10,\n",
    "    )\n",
    "\n",
    "\n",
    "plt.tight_layout()\n",
    "plt.show()"
   ]
  },
  {
   "cell_type": "code",
   "execution_count": 28,
   "id": "edc56ffd",
   "metadata": {},
   "outputs": [
    {
     "data": {
      "text/plain": [
       "victim_gender\n",
       "M     577\n",
       "F     214\n",
       "Mn      1\n",
       "MN      1\n",
       "f       1\n",
       "M.      1\n",
       "Name: count, dtype: int64"
      ]
     },
     "execution_count": 28,
     "metadata": {},
     "output_type": "execute_result"
    }
   ],
   "source": [
    "df[\"victim_gender\"].value_counts()"
   ]
  },
  {
   "cell_type": "code",
   "execution_count": 29,
   "id": "49f7ed3c",
   "metadata": {},
   "outputs": [
    {
     "data": {
      "text/plain": [
       "victim_gender\n",
       "M    580\n",
       "F    215\n",
       "Name: count, dtype: int64"
      ]
     },
     "execution_count": 29,
     "metadata": {},
     "output_type": "execute_result"
    }
   ],
   "source": [
    "gender_mapping = {\n",
    "    \"M\": \"M\",\n",
    "    \"F\": \"F\",\n",
    "    \"MN\": \"M\",\n",
    "    \"M.\": \"M\",\n",
    "    \"Mn\": \"M\",\n",
    "    \"f\": \"F\",\n",
    "}\n",
    "\n",
    "df[\"victim_gender\"] = df[\"victim_gender\"].map(gender_mapping)\n",
    "df[\"victim_gender\"].value_counts()"
   ]
  },
  {
   "cell_type": "code",
   "execution_count": null,
   "id": "a1efc7c7",
   "metadata": {},
   "outputs": [
    {
     "data": {
      "image/png": "[encoded data removed]",
      "text/plain": [
       "<Figure size 1200x600 with 1 Axes>"
      ]
     },
     "metadata": {},
     "output_type": "display_data"
    }
   ],
   "source": [
    "plt.figure(figsize=(12, 6))\n",
    "sns.histplot(\n",
    "    data=df,\n",
    "    x=\"age\",\n",
    "    hue=\"victim_gender\",\n",
    "    bins=20,\n",
    "    kde=True,\n",
    "    palette={\"M\": \"steelblue\", \"F\": \"salmon\"},\n",
    "    alpha=0.6,\n",
    "    multiple=\"dodge\",  # Try 'dodge' for side-by-side bars\n",
    ")\n",
    "\n",
    "plt.title(\"Distribution of Accidents by Age and Gender\", fontsize=16)\n",
    "plt.xlabel(\"Age\", fontsize=12)\n",
    "plt.ylabel(\"Number of Accidents\", fontsize=12)\n",
    "plt.legend(title=\"Gender\", labels=[\"Male\", \"Female\"])\n",
    "plt.grid(True, alpha=0.3)\n",
    "plt.show()"
   ]
  },
  {
   "cell_type": "code",
   "execution_count": null,
   "id": "a4f79494",
   "metadata": {},
   "outputs": [],
   "source": [
    "df[\"age_group\"] = pd.cut(\n",
    "    df[\"age\"],\n",
    "    bins=[0, 18, 25, 35, 45, 55, 65, 75, 100],\n",
    "    labels=[\"0-18\", \"19-25\", \"26-35\", \"36-45\", \"46-55\", \"56-65\", \"66-75\", \"75+\"],\n",
    ")"
   ]
  },
  {
   "cell_type": "code",
   "execution_count": null,
   "id": "029cede1",
   "metadata": {},
   "outputs": [
    {
     "data": {
      "image/png": "[encoded data removed]",
      "text/plain": [
       "<Figure size 1400x600 with 1 Axes>"
      ]
     },
     "metadata": {},
     "output_type": "display_data"
    }
   ],
   "source": [
    "plt.figure(figsize=(14, 6))\n",
    "sns.countplot(\n",
    "    data=df,\n",
    "    x=\"age_group\",\n",
    "    hue=\"victim_gender\",\n",
    "    palette={\"M\": \"steelblue\", \"F\": \"salmon\"},\n",
    "    order=df[\"age_group\"].value_counts().index,\n",
    ")\n",
    "\n",
    "plt.title(\"Accidents by Age Group and Gender\", fontsize=16)\n",
    "plt.xlabel(\"Age Group\", fontsize=12)\n",
    "plt.ylabel(\"Number of Accidents\", fontsize=12)\n",
    "plt.legend(title=\"Gender\", labels=[\"Male\", \"Female\"])\n",
    "plt.xticks(rotation=45)\n",
    "plt.grid(True, alpha=0.3, axis=\"y\")\n",
    "plt.tight_layout()\n",
    "plt.show()"
   ]
  },
  {
   "cell_type": "code",
   "execution_count": null,
   "id": "1eb48a28",
   "metadata": {},
   "outputs": [],
   "source": [
    "df.to_csv(\"./philadelphia_fatal_crashes.csv\")"
   ]
  }
 ],
 "metadata": {
  "kernelspec": {
   "display_name": "default",
   "language": "python",
   "name": "python3"
  },
  "language_info": {
   "codemirror_mode": {
    "name": "ipython",
    "version": 3
   },
   "file_extension": ".py",
   "mimetype": "text/x-python",
   "name": "python",
   "nbconvert_exporter": "python",
   "pygments_lexer": "ipython3",
   "version": "3.13.3"
  }
 },
 "nbformat": 4,
 "nbformat_minor": 5
}
