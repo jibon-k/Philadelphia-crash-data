{
 "cells": [
  {
   "cell_type": "code",
   "execution_count": 1,
   "id": "e6da92b3",
   "metadata": {
    "execution": {
     "iopub.execute_input": "2025-05-30T06:20:39.593274Z",
     "iopub.status.busy": "2025-05-30T06:20:39.592954Z",
     "iopub.status.idle": "2025-05-30T06:20:41.368085Z",
     "shell.execute_reply": "2025-05-30T06:20:41.367443Z"
    },
    "papermill": {
     "duration": 1.782622,
     "end_time": "2025-05-30T06:20:41.369559",
     "exception": false,
     "start_time": "2025-05-30T06:20:39.586937",
     "status": "completed"
    },
    "tags": []
   },
   "outputs": [],
   "source": [
    "import numpy as np\n",
    "import pandas as pd"
   ]
  },
  {
   "cell_type": "code",
   "execution_count": 2,
   "id": "c46c6f7a",
   "metadata": {
    "execution": {
     "iopub.execute_input": "2025-05-30T06:20:41.379037Z",
     "iopub.status.busy": "2025-05-30T06:20:41.378687Z",
     "iopub.status.idle": "2025-05-30T06:20:41.382754Z",
     "shell.execute_reply": "2025-05-30T06:20:41.382127Z"
    },
    "papermill": {
     "duration": 0.009978,
     "end_time": "2025-05-30T06:20:41.383887",
     "exception": false,
     "start_time": "2025-05-30T06:20:41.373909",
     "status": "completed"
    },
    "tags": []
   },
   "outputs": [],
   "source": [
    "cols = [\n",
    "    \"objectid\",\n",
    "    \"year\",\n",
    "    \"district\",\n",
    "    \"date_\",\n",
    "    \"primary_st\",\n",
    "    \"age\",\n",
    "    \"sex\",\n",
    "    \"crash_type\",\n",
    "    \"hit_____ru\",\n",
    "    \"veh1\",\n",
    "    \"veh2\",\n",
    "    \"arrest_yes\",\n",
    "    \"investigat\",\n",
    "    \"time_of_day__24hrs_\",\n",
    "    \"lat\",\n",
    "    \"lng\",\n",
    "]"
   ]
  },
  {
   "cell_type": "code",
   "execution_count": 3,
   "id": "3758e322",
   "metadata": {
    "execution": {
     "iopub.execute_input": "2025-05-30T06:20:41.392225Z",
     "iopub.status.busy": "2025-05-30T06:20:41.391986Z",
     "iopub.status.idle": "2025-05-30T06:20:41.834980Z",
     "shell.execute_reply": "2025-05-30T06:20:41.834325Z"
    },
    "papermill": {
     "duration": 0.448796,
     "end_time": "2025-05-30T06:20:41.836494",
     "exception": false,
     "start_time": "2025-05-30T06:20:41.387698",
     "status": "completed"
    },
    "tags": []
   },
   "outputs": [],
   "source": [
    "df = pd.read_csv(\n",
    "    \"https://phl.carto.com/api/v2/sql?filename=fatal_crashes&format=csv&skipfields=cartodb_id,the_geom,the_geom_webmercator&q=SELECT%20*,%20ST_Y(the_geom)%20AS%20lat,%20ST_X(the_geom)%20AS%20lng%20FROM%20fatal_crashes\",\n",
    "    usecols=cols,\n",
    "    index_col=False,\n",
    ")\n",
    "column_mapping = {\n",
    "    \"objectid\": \"crash_id\",\n",
    "    \"district\": \"police_district\",\n",
    "    \"date_\": \"crash_date\",\n",
    "    \"primary_st\": \"primary_street\",\n",
    "    \"sex\": \"victim_gender\",\n",
    "    \"crash_type\": \"collision_type\",\n",
    "    \"hit_____ru\": \"hit_and_run\",\n",
    "    \"veh1\": \"primary_vehicle\",\n",
    "    \"veh2\": \"secondary_vehicle\",\n",
    "    \"arrest_yes\": \"arrest_made\",\n",
    "    \"investigat\": \"investigation_status\",\n",
    "    \"time_of_day__24hrs_\": \"time\",\n",
    "    \"lat\": \"latitude\",\n",
    "    \"lng\": \"longitude\",\n",
    "}\n",
    "df = df.rename(columns=column_mapping)"
   ]
  },
  {
   "cell_type": "code",
   "execution_count": 4,
   "id": "597d00b7",
   "metadata": {
    "execution": {
     "iopub.execute_input": "2025-05-30T06:20:41.845492Z",
     "iopub.status.busy": "2025-05-30T06:20:41.845192Z",
     "iopub.status.idle": "2025-05-30T06:20:41.882276Z",
     "shell.execute_reply": "2025-05-30T06:20:41.881481Z"
    },
    "papermill": {
     "duration": 0.042902,
     "end_time": "2025-05-30T06:20:41.883555",
     "exception": false,
     "start_time": "2025-05-30T06:20:41.840653",
     "status": "completed"
    },
    "tags": []
   },
   "outputs": [
    {
     "data": {
      "text/html": [
       "<div>\n",
       "<style scoped>\n",
       "    .dataframe tbody tr th:only-of-type {\n",
       "        vertical-align: middle;\n",
       "    }\n",
       "\n",
       "    .dataframe tbody tr th {\n",
       "        vertical-align: top;\n",
       "    }\n",
       "\n",
       "    .dataframe thead th {\n",
       "        text-align: right;\n",
       "    }\n",
       "</style>\n",
       "<table border=\"1\" class=\"dataframe\">\n",
       "  <thead>\n",
       "    <tr style=\"text-align: right;\">\n",
       "      <th></th>\n",
       "      <th>crash_id</th>\n",
       "      <th>year</th>\n",
       "      <th>police_district</th>\n",
       "      <th>crash_date</th>\n",
       "      <th>primary_street</th>\n",
       "      <th>age</th>\n",
       "      <th>victim_gender</th>\n",
       "      <th>collision_type</th>\n",
       "      <th>hit_and_run</th>\n",
       "      <th>primary_vehicle</th>\n",
       "      <th>secondary_vehicle</th>\n",
       "      <th>arrest_made</th>\n",
       "      <th>investigation_status</th>\n",
       "      <th>time</th>\n",
       "      <th>latitude</th>\n",
       "      <th>longitude</th>\n",
       "    </tr>\n",
       "  </thead>\n",
       "  <tbody>\n",
       "    <tr>\n",
       "      <th>483</th>\n",
       "      <td>49987</td>\n",
       "      <td>2022</td>\n",
       "      <td>2</td>\n",
       "      <td>2022-10-14 04:00:00+00</td>\n",
       "      <td>Verree Rd.</td>\n",
       "      <td>63.0</td>\n",
       "      <td>M</td>\n",
       "      <td>The pedestrian was attempting to cross Verree ...</td>\n",
       "      <td>Yes</td>\n",
       "      <td>Auto</td>\n",
       "      <td>Pedestrian</td>\n",
       "      <td>Pending</td>\n",
       "      <td>Pending identification of operator.</td>\n",
       "      <td>NaN</td>\n",
       "      <td>40.070730</td>\n",
       "      <td>-75.078562</td>\n",
       "    </tr>\n",
       "    <tr>\n",
       "      <th>352</th>\n",
       "      <td>49857</td>\n",
       "      <td>2021</td>\n",
       "      <td>39</td>\n",
       "      <td>2021-10-29 04:00:00+00</td>\n",
       "      <td>Hunting Park Ave.</td>\n",
       "      <td>56.0</td>\n",
       "      <td>F</td>\n",
       "      <td>Pedestrian attempting to cross Hunting Park Av...</td>\n",
       "      <td>Yes</td>\n",
       "      <td>Auto</td>\n",
       "      <td>Pedestrian</td>\n",
       "      <td>Pending</td>\n",
       "      <td>Pending identification</td>\n",
       "      <td>NaN</td>\n",
       "      <td>40.009911</td>\n",
       "      <td>-75.166874</td>\n",
       "    </tr>\n",
       "    <tr>\n",
       "      <th>440</th>\n",
       "      <td>49945</td>\n",
       "      <td>2022</td>\n",
       "      <td>16</td>\n",
       "      <td>2022-06-22 04:00:00+00</td>\n",
       "      <td>44th St.</td>\n",
       "      <td>16.0</td>\n",
       "      <td>M</td>\n",
       "      <td>Unit #1, in a stolen vehicle S/B on 44th St. a...</td>\n",
       "      <td>No</td>\n",
       "      <td>Auto</td>\n",
       "      <td>Pedestrian</td>\n",
       "      <td>Yes</td>\n",
       "      <td>HBV, Inv. Mans., Accident involving death, REA...</td>\n",
       "      <td>NaN</td>\n",
       "      <td>39.966775</td>\n",
       "      <td>-75.211110</td>\n",
       "    </tr>\n",
       "  </tbody>\n",
       "</table>\n",
       "</div>"
      ],
      "text/plain": [
       "     crash_id  year  police_district              crash_date  \\\n",
       "483     49987  2022                2  2022-10-14 04:00:00+00   \n",
       "352     49857  2021               39  2021-10-29 04:00:00+00   \n",
       "440     49945  2022               16  2022-06-22 04:00:00+00   \n",
       "\n",
       "        primary_street   age victim_gender  \\\n",
       "483         Verree Rd.  63.0             M   \n",
       "352  Hunting Park Ave.  56.0             F   \n",
       "440           44th St.  16.0             M   \n",
       "\n",
       "                                        collision_type hit_and_run  \\\n",
       "483  The pedestrian was attempting to cross Verree ...         Yes   \n",
       "352  Pedestrian attempting to cross Hunting Park Av...         Yes   \n",
       "440  Unit #1, in a stolen vehicle S/B on 44th St. a...          No   \n",
       "\n",
       "    primary_vehicle secondary_vehicle arrest_made  \\\n",
       "483            Auto        Pedestrian     Pending   \n",
       "352            Auto        Pedestrian     Pending   \n",
       "440            Auto        Pedestrian         Yes   \n",
       "\n",
       "                                  investigation_status time   latitude  \\\n",
       "483               Pending identification of operator.   NaN  40.070730   \n",
       "352                             Pending identification  NaN  40.009911   \n",
       "440  HBV, Inv. Mans., Accident involving death, REA...  NaN  39.966775   \n",
       "\n",
       "     longitude  \n",
       "483 -75.078562  \n",
       "352 -75.166874  \n",
       "440 -75.211110  "
      ]
     },
     "execution_count": 4,
     "metadata": {},
     "output_type": "execute_result"
    }
   ],
   "source": [
    "df.sample(3)"
   ]
  },
  {
   "cell_type": "code",
   "execution_count": 5,
   "id": "62a26ea4",
   "metadata": {
    "execution": {
     "iopub.execute_input": "2025-05-30T06:20:41.892834Z",
     "iopub.status.busy": "2025-05-30T06:20:41.892584Z",
     "iopub.status.idle": "2025-05-30T06:20:41.912689Z",
     "shell.execute_reply": "2025-05-30T06:20:41.911763Z"
    },
    "papermill": {
     "duration": 0.026435,
     "end_time": "2025-05-30T06:20:41.914163",
     "exception": false,
     "start_time": "2025-05-30T06:20:41.887728",
     "status": "completed"
    },
    "tags": []
   },
   "outputs": [
    {
     "name": "stdout",
     "output_type": "stream",
     "text": [
      "<class 'pandas.core.frame.DataFrame'>\n",
      "RangeIndex: 797 entries, 0 to 796\n",
      "Data columns (total 16 columns):\n",
      " #   Column                Non-Null Count  Dtype  \n",
      "---  ------                --------------  -----  \n",
      " 0   crash_id              797 non-null    int64  \n",
      " 1   year                  797 non-null    int64  \n",
      " 2   police_district       797 non-null    int64  \n",
      " 3   crash_date            797 non-null    object \n",
      " 4   primary_street        797 non-null    object \n",
      " 5   age                   792 non-null    float64\n",
      " 6   victim_gender         796 non-null    object \n",
      " 7   collision_type        797 non-null    object \n",
      " 8   hit_and_run           797 non-null    object \n",
      " 9   primary_vehicle       797 non-null    object \n",
      " 10  secondary_vehicle     794 non-null    object \n",
      " 11  arrest_made           781 non-null    object \n",
      " 12  investigation_status  793 non-null    object \n",
      " 13  time                  292 non-null    object \n",
      " 14  latitude              783 non-null    float64\n",
      " 15  longitude             783 non-null    float64\n",
      "dtypes: float64(3), int64(3), object(10)\n",
      "memory usage: 99.8+ KB\n"
     ]
    }
   ],
   "source": [
    "df.info()"
   ]
  },
  {
   "cell_type": "code",
   "execution_count": 6,
   "id": "e8dce77e",
   "metadata": {
    "execution": {
     "iopub.execute_input": "2025-05-30T06:20:41.923582Z",
     "iopub.status.busy": "2025-05-30T06:20:41.923314Z",
     "iopub.status.idle": "2025-05-30T06:20:41.930546Z",
     "shell.execute_reply": "2025-05-30T06:20:41.929777Z"
    },
    "papermill": {
     "duration": 0.013237,
     "end_time": "2025-05-30T06:20:41.931773",
     "exception": false,
     "start_time": "2025-05-30T06:20:41.918536",
     "status": "completed"
    },
    "tags": []
   },
   "outputs": [
    {
     "data": {
      "text/plain": [
       "crash_id                  0\n",
       "year                      0\n",
       "police_district           0\n",
       "crash_date                0\n",
       "primary_street            0\n",
       "age                       5\n",
       "victim_gender             1\n",
       "collision_type            0\n",
       "hit_and_run               0\n",
       "primary_vehicle           0\n",
       "secondary_vehicle         3\n",
       "arrest_made              16\n",
       "investigation_status      4\n",
       "time                    505\n",
       "latitude                 14\n",
       "longitude                14\n",
       "dtype: int64"
      ]
     },
     "execution_count": 6,
     "metadata": {},
     "output_type": "execute_result"
    }
   ],
   "source": [
    "df.isnull().sum()"
   ]
  },
  {
   "cell_type": "code",
   "execution_count": 7,
   "id": "451afbb2",
   "metadata": {
    "execution": {
     "iopub.execute_input": "2025-05-30T06:20:41.941217Z",
     "iopub.status.busy": "2025-05-30T06:20:41.940975Z",
     "iopub.status.idle": "2025-05-30T06:20:41.964949Z",
     "shell.execute_reply": "2025-05-30T06:20:41.964227Z"
    },
    "papermill": {
     "duration": 0.030047,
     "end_time": "2025-05-30T06:20:41.966186",
     "exception": false,
     "start_time": "2025-05-30T06:20:41.936139",
     "status": "completed"
    },
    "tags": []
   },
   "outputs": [
    {
     "data": {
      "text/html": [
       "<div>\n",
       "<style scoped>\n",
       "    .dataframe tbody tr th:only-of-type {\n",
       "        vertical-align: middle;\n",
       "    }\n",
       "\n",
       "    .dataframe tbody tr th {\n",
       "        vertical-align: top;\n",
       "    }\n",
       "\n",
       "    .dataframe thead th {\n",
       "        text-align: right;\n",
       "    }\n",
       "</style>\n",
       "<table border=\"1\" class=\"dataframe\">\n",
       "  <thead>\n",
       "    <tr style=\"text-align: right;\">\n",
       "      <th></th>\n",
       "      <th>crash_id</th>\n",
       "      <th>year</th>\n",
       "      <th>police_district</th>\n",
       "      <th>age</th>\n",
       "      <th>latitude</th>\n",
       "      <th>longitude</th>\n",
       "    </tr>\n",
       "  </thead>\n",
       "  <tbody>\n",
       "    <tr>\n",
       "      <th>count</th>\n",
       "      <td>797.000000</td>\n",
       "      <td>797.000000</td>\n",
       "      <td>797.000000</td>\n",
       "      <td>792.000000</td>\n",
       "      <td>783.000000</td>\n",
       "      <td>783.000000</td>\n",
       "    </tr>\n",
       "    <tr>\n",
       "      <th>mean</th>\n",
       "      <td>49904.000000</td>\n",
       "      <td>2021.712673</td>\n",
       "      <td>18.398996</td>\n",
       "      <td>43.381313</td>\n",
       "      <td>40.011338</td>\n",
       "      <td>-75.156402</td>\n",
       "    </tr>\n",
       "    <tr>\n",
       "      <th>std</th>\n",
       "      <td>230.218375</td>\n",
       "      <td>1.749085</td>\n",
       "      <td>10.885373</td>\n",
       "      <td>18.796025</td>\n",
       "      <td>0.145391</td>\n",
       "      <td>0.337886</td>\n",
       "    </tr>\n",
       "    <tr>\n",
       "      <th>min</th>\n",
       "      <td>49506.000000</td>\n",
       "      <td>2019.000000</td>\n",
       "      <td>1.000000</td>\n",
       "      <td>0.000000</td>\n",
       "      <td>39.884438</td>\n",
       "      <td>-80.502372</td>\n",
       "    </tr>\n",
       "    <tr>\n",
       "      <th>25%</th>\n",
       "      <td>49705.000000</td>\n",
       "      <td>2020.000000</td>\n",
       "      <td>9.000000</td>\n",
       "      <td>29.000000</td>\n",
       "      <td>39.974730</td>\n",
       "      <td>-75.179779</td>\n",
       "    </tr>\n",
       "    <tr>\n",
       "      <th>50%</th>\n",
       "      <td>49904.000000</td>\n",
       "      <td>2022.000000</td>\n",
       "      <td>17.000000</td>\n",
       "      <td>40.000000</td>\n",
       "      <td>40.005485</td>\n",
       "      <td>-75.144203</td>\n",
       "    </tr>\n",
       "    <tr>\n",
       "      <th>75%</th>\n",
       "      <td>50103.000000</td>\n",
       "      <td>2023.000000</td>\n",
       "      <td>25.000000</td>\n",
       "      <td>58.000000</td>\n",
       "      <td>40.032948</td>\n",
       "      <td>-75.097440</td>\n",
       "    </tr>\n",
       "    <tr>\n",
       "      <th>max</th>\n",
       "      <td>50302.000000</td>\n",
       "      <td>2025.000000</td>\n",
       "      <td>77.000000</td>\n",
       "      <td>99.000000</td>\n",
       "      <td>42.224336</td>\n",
       "      <td>-74.961302</td>\n",
       "    </tr>\n",
       "  </tbody>\n",
       "</table>\n",
       "</div>"
      ],
      "text/plain": [
       "           crash_id         year  police_district         age    latitude  \\\n",
       "count    797.000000   797.000000       797.000000  792.000000  783.000000   \n",
       "mean   49904.000000  2021.712673        18.398996   43.381313   40.011338   \n",
       "std      230.218375     1.749085        10.885373   18.796025    0.145391   \n",
       "min    49506.000000  2019.000000         1.000000    0.000000   39.884438   \n",
       "25%    49705.000000  2020.000000         9.000000   29.000000   39.974730   \n",
       "50%    49904.000000  2022.000000        17.000000   40.000000   40.005485   \n",
       "75%    50103.000000  2023.000000        25.000000   58.000000   40.032948   \n",
       "max    50302.000000  2025.000000        77.000000   99.000000   42.224336   \n",
       "\n",
       "        longitude  \n",
       "count  783.000000  \n",
       "mean   -75.156402  \n",
       "std      0.337886  \n",
       "min    -80.502372  \n",
       "25%    -75.179779  \n",
       "50%    -75.144203  \n",
       "75%    -75.097440  \n",
       "max    -74.961302  "
      ]
     },
     "execution_count": 7,
     "metadata": {},
     "output_type": "execute_result"
    }
   ],
   "source": [
    "df.describe()"
   ]
  },
  {
   "cell_type": "code",
   "execution_count": 8,
   "id": "675a6ae2",
   "metadata": {
    "execution": {
     "iopub.execute_input": "2025-05-30T06:20:41.976259Z",
     "iopub.status.busy": "2025-05-30T06:20:41.975987Z",
     "iopub.status.idle": "2025-05-30T06:20:41.985042Z",
     "shell.execute_reply": "2025-05-30T06:20:41.984436Z"
    },
    "papermill": {
     "duration": 0.015442,
     "end_time": "2025-05-30T06:20:41.986221",
     "exception": false,
     "start_time": "2025-05-30T06:20:41.970779",
     "status": "completed"
    },
    "tags": []
   },
   "outputs": [],
   "source": [
    "df[\"crash_date\"] = df[\"crash_date\"].str.split().str[0]\n",
    "df[\"crash_date\"] = pd.to_datetime(df[\"crash_date\"])"
   ]
  },
  {
   "cell_type": "code",
   "execution_count": 9,
   "id": "8e04956f",
   "metadata": {
    "execution": {
     "iopub.execute_input": "2025-05-30T06:20:41.995891Z",
     "iopub.status.busy": "2025-05-30T06:20:41.995653Z",
     "iopub.status.idle": "2025-05-30T06:20:42.001035Z",
     "shell.execute_reply": "2025-05-30T06:20:42.000357Z"
    },
    "papermill": {
     "duration": 0.011438,
     "end_time": "2025-05-30T06:20:42.002147",
     "exception": false,
     "start_time": "2025-05-30T06:20:41.990709",
     "status": "completed"
    },
    "tags": []
   },
   "outputs": [],
   "source": [
    "df.insert(\n",
    "    loc=df.columns.get_loc(\"crash_date\") + 1,\n",
    "    column=\"day_name\",\n",
    "    value=df[\"crash_date\"].dt.day_name(),\n",
    ")"
   ]
  },
  {
   "cell_type": "code",
   "execution_count": 10,
   "id": "3c6b31ec",
   "metadata": {
    "execution": {
     "iopub.execute_input": "2025-05-30T06:20:42.011828Z",
     "iopub.status.busy": "2025-05-30T06:20:42.011590Z",
     "iopub.status.idle": "2025-05-30T06:20:42.023037Z",
     "shell.execute_reply": "2025-05-30T06:20:42.022409Z"
    },
    "papermill": {
     "duration": 0.017575,
     "end_time": "2025-05-30T06:20:42.024198",
     "exception": false,
     "start_time": "2025-05-30T06:20:42.006623",
     "status": "completed"
    },
    "tags": []
   },
   "outputs": [],
   "source": [
    "df[\"age_group\"] = pd.cut(\n",
    "    df[\"age\"],\n",
    "    bins=[0, 18, 25, 35, 45, 55, 65, 75, 100],\n",
    "    labels=[\"0-18\", \"19-25\", \"26-35\", \"36-45\", \"46-55\", \"56-65\", \"66-75\", \"75+\"],\n",
    ")"
   ]
  },
  {
   "cell_type": "code",
   "execution_count": 11,
   "id": "ae8552aa",
   "metadata": {
    "execution": {
     "iopub.execute_input": "2025-05-30T06:20:42.034243Z",
     "iopub.status.busy": "2025-05-30T06:20:42.033971Z",
     "iopub.status.idle": "2025-05-30T06:20:42.040558Z",
     "shell.execute_reply": "2025-05-30T06:20:42.039887Z"
    },
    "papermill": {
     "duration": 0.01296,
     "end_time": "2025-05-30T06:20:42.041741",
     "exception": false,
     "start_time": "2025-05-30T06:20:42.028781",
     "status": "completed"
    },
    "tags": []
   },
   "outputs": [
    {
     "data": {
      "text/plain": [
       "hit_and_run\n",
       "No     601\n",
       "Yes    194\n",
       "Unk      1\n",
       "??       1\n",
       "Name: count, dtype: int64"
      ]
     },
     "execution_count": 11,
     "metadata": {},
     "output_type": "execute_result"
    }
   ],
   "source": [
    "df[\"hit_and_run\"].value_counts()"
   ]
  },
  {
   "cell_type": "code",
   "execution_count": 12,
   "id": "04dd1ccb",
   "metadata": {
    "execution": {
     "iopub.execute_input": "2025-05-30T06:20:42.051703Z",
     "iopub.status.busy": "2025-05-30T06:20:42.051446Z",
     "iopub.status.idle": "2025-05-30T06:20:42.056263Z",
     "shell.execute_reply": "2025-05-30T06:20:42.055664Z"
    },
    "papermill": {
     "duration": 0.011255,
     "end_time": "2025-05-30T06:20:42.057467",
     "exception": false,
     "start_time": "2025-05-30T06:20:42.046212",
     "status": "completed"
    },
    "tags": []
   },
   "outputs": [],
   "source": [
    "df[\"hit_and_run\"] = np.where(\n",
    "    df[\"hit_and_run\"] == \"Yes\", 1, np.where(df[\"hit_and_run\"] == \"No\", 0, np.nan)\n",
    ")"
   ]
  },
  {
   "cell_type": "code",
   "execution_count": 13,
   "id": "f5d33f29",
   "metadata": {
    "execution": {
     "iopub.execute_input": "2025-05-30T06:20:42.067115Z",
     "iopub.status.busy": "2025-05-30T06:20:42.066879Z",
     "iopub.status.idle": "2025-05-30T06:20:42.073195Z",
     "shell.execute_reply": "2025-05-30T06:20:42.072565Z"
    },
    "papermill": {
     "duration": 0.012484,
     "end_time": "2025-05-30T06:20:42.074329",
     "exception": false,
     "start_time": "2025-05-30T06:20:42.061845",
     "status": "completed"
    },
    "tags": []
   },
   "outputs": [
    {
     "data": {
      "text/plain": [
       "arrest_made\n",
       "No               550\n",
       "Pending          147\n",
       "Yes               73\n",
       "No                 4\n",
       "TBD                2\n",
       "Pending ID         1\n",
       "Unk.               1\n",
       "Arrested           1\n",
       "None expected      1\n",
       "N                  1\n",
       "Name: count, dtype: int64"
      ]
     },
     "execution_count": 13,
     "metadata": {},
     "output_type": "execute_result"
    }
   ],
   "source": [
    "df[\"arrest_made\"].value_counts()"
   ]
  },
  {
   "cell_type": "code",
   "execution_count": 14,
   "id": "9154c4cb",
   "metadata": {
    "execution": {
     "iopub.execute_input": "2025-05-30T06:20:42.084737Z",
     "iopub.status.busy": "2025-05-30T06:20:42.084500Z",
     "iopub.status.idle": "2025-05-30T06:20:42.089314Z",
     "shell.execute_reply": "2025-05-30T06:20:42.088711Z"
    },
    "papermill": {
     "duration": 0.011728,
     "end_time": "2025-05-30T06:20:42.090573",
     "exception": false,
     "start_time": "2025-05-30T06:20:42.078845",
     "status": "completed"
    },
    "tags": []
   },
   "outputs": [],
   "source": [
    "day_order = [\n",
    "    \"Monday\",\n",
    "    \"Tuesday\",\n",
    "    \"Wednesday\",\n",
    "    \"Thursday\",\n",
    "    \"Friday\",\n",
    "    \"Saturday\",\n",
    "    \"Sunday\",\n",
    "]\n",
    "df[\"day_name\"] = pd.Categorical(df[\"day_name\"], categories=day_order, ordered=True)"
   ]
  },
  {
   "cell_type": "code",
   "execution_count": 15,
   "id": "4af6defc",
   "metadata": {
    "execution": {
     "iopub.execute_input": "2025-05-30T06:20:42.100477Z",
     "iopub.status.busy": "2025-05-30T06:20:42.100199Z",
     "iopub.status.idle": "2025-05-30T06:20:42.106172Z",
     "shell.execute_reply": "2025-05-30T06:20:42.105581Z"
    },
    "papermill": {
     "duration": 0.012206,
     "end_time": "2025-05-30T06:20:42.107310",
     "exception": false,
     "start_time": "2025-05-30T06:20:42.095104",
     "status": "completed"
    },
    "tags": []
   },
   "outputs": [
    {
     "data": {
      "text/plain": [
       "victim_gender\n",
       "M     577\n",
       "F     215\n",
       "Mn      1\n",
       "MN      1\n",
       "f       1\n",
       "M.      1\n",
       "Name: count, dtype: int64"
      ]
     },
     "execution_count": 15,
     "metadata": {},
     "output_type": "execute_result"
    }
   ],
   "source": [
    "df[\"victim_gender\"].value_counts()"
   ]
  },
  {
   "cell_type": "code",
   "execution_count": 16,
   "id": "be6e796b",
   "metadata": {
    "execution": {
     "iopub.execute_input": "2025-05-30T06:20:42.117483Z",
     "iopub.status.busy": "2025-05-30T06:20:42.117211Z",
     "iopub.status.idle": "2025-05-30T06:20:42.124717Z",
     "shell.execute_reply": "2025-05-30T06:20:42.123971Z"
    },
    "papermill": {
     "duration": 0.014059,
     "end_time": "2025-05-30T06:20:42.125934",
     "exception": false,
     "start_time": "2025-05-30T06:20:42.111875",
     "status": "completed"
    },
    "tags": []
   },
   "outputs": [
    {
     "data": {
      "text/plain": [
       "victim_gender\n",
       "M    580\n",
       "F    216\n",
       "Name: count, dtype: int64"
      ]
     },
     "execution_count": 16,
     "metadata": {},
     "output_type": "execute_result"
    }
   ],
   "source": [
    "gender_mapping = {\n",
    "    \"M\": \"M\",\n",
    "    \"F\": \"F\",\n",
    "    \"MN\": \"M\",\n",
    "    \"M.\": \"M\",\n",
    "    \"Mn\": \"M\",\n",
    "    \"f\": \"F\",\n",
    "}\n",
    "\n",
    "df[\"victim_gender\"] = df[\"victim_gender\"].map(gender_mapping)\n",
    "df[\"victim_gender\"].value_counts()"
   ]
  },
  {
   "cell_type": "code",
   "execution_count": 17,
   "id": "67317783",
   "metadata": {
    "execution": {
     "iopub.execute_input": "2025-05-30T06:20:42.136102Z",
     "iopub.status.busy": "2025-05-30T06:20:42.135869Z",
     "iopub.status.idle": "2025-05-30T06:20:42.142173Z",
     "shell.execute_reply": "2025-05-30T06:20:42.141463Z"
    },
    "papermill": {
     "duration": 0.012729,
     "end_time": "2025-05-30T06:20:42.143344",
     "exception": false,
     "start_time": "2025-05-30T06:20:42.130615",
     "status": "completed"
    },
    "tags": []
   },
   "outputs": [
    {
     "data": {
      "text/plain": [
       "primary_vehicle\n",
       "Auto                  624\n",
       "M/C                    78\n",
       "Motorcycle             29\n",
       "Auto                   10\n",
       "Dirtbike                9\n",
       "Train                   9\n",
       "Bus                     4\n",
       "ATV                     4\n",
       "Quad                    2\n",
       "Bicyclist               2\n",
       "Bike                    2\n",
       "SEPTA Bus               2\n",
       "Motor Scooter           2\n",
       "Dirt Bike               2\n",
       "Auto (Mack TK)          1\n",
       "School Bus              1\n",
       "Tree                    1\n",
       "PFD Ladder TK           1\n",
       "SEPTA Trolley           1\n",
       "SEPTA Subway Train      1\n",
       "Ambulance               1\n",
       "Pedestrian              1\n",
       "Tow truck               1\n",
       "Van                     1\n",
       "T/T                     1\n",
       "Moped                   1\n",
       "Septa bus               1\n",
       "Truck                   1\n",
       "Trolley Car             1\n",
       "unk                     1\n",
       "Auto (Police)           1\n",
       "Can Am Slingshot        1\n",
       "Name: count, dtype: int64"
      ]
     },
     "execution_count": 17,
     "metadata": {},
     "output_type": "execute_result"
    }
   ],
   "source": [
    "df[\"primary_vehicle\"].value_counts()"
   ]
  },
  {
   "cell_type": "code",
   "execution_count": 18,
   "id": "d378f0e6",
   "metadata": {
    "execution": {
     "iopub.execute_input": "2025-05-30T06:20:42.153952Z",
     "iopub.status.busy": "2025-05-30T06:20:42.153726Z",
     "iopub.status.idle": "2025-05-30T06:20:42.166100Z",
     "shell.execute_reply": "2025-05-30T06:20:42.165253Z"
    },
    "papermill": {
     "duration": 0.01931,
     "end_time": "2025-05-30T06:20:42.167385",
     "exception": false,
     "start_time": "2025-05-30T06:20:42.148075",
     "status": "completed"
    },
    "tags": []
   },
   "outputs": [
    {
     "name": "stdout",
     "output_type": "stream",
     "text": [
      "primary_vehicle\n",
      "Auto          627\n",
      "Motorcycle    121\n",
      "Commercial     13\n",
      "Others         12\n",
      "Train          10\n",
      "Off-road        7\n",
      "Bicycle         4\n",
      "Pedestrian      1\n",
      "Trolley         1\n",
      "Object          1\n",
      "Name: count, dtype: int64\n"
     ]
    }
   ],
   "source": [
    "vehicle_mapping = {\n",
    "    \"Dirt Bike\": \"Dirtbike\",\n",
    "    \"SEPTA Bus\": \"Bus\",\n",
    "    \"Septa bus\": \"Bus\",\n",
    "    \"Motor Scooter\": \"Moped\",\n",
    "    \"T/T\": \"Truck\",\n",
    "    \"Auto (Police)\": \"Auto\",\n",
    "    \"Auto (Mack TK)\": \"Auto\",\n",
    "    \"SEPTA Trolley\": \"Trolley\",\n",
    "    \"SEPTA Subway Train\": \"Train\",\n",
    "    \"PFD Ladder TK\": \"Truck\",\n",
    "    \"Can Am Slingshot\": \"ATV\",\n",
    "}\n",
    "df[\"primary_vehicle\"] = df[\"primary_vehicle\"].replace(vehicle_mapping)\n",
    "vehicle_categories = {\n",
    "    \"M/C\": \"Motorcycle\",\n",
    "    \"Auto\": \"Auto\",\n",
    "    \"Motorcycle\": \"Motorcycle\",\n",
    "    \"Dirtbike\": \"Motorcycle\",\n",
    "    \"Bike\": \"Bicycle\",\n",
    "    \"Bicyclist\": \"Bicycle\",\n",
    "    \"Bus\": \"Commercial\",\n",
    "    \"School Bus\": \"Commercial\",\n",
    "    \"Truck\": \"Commercial\",\n",
    "    \"Tow truck\": \"Commercial\",\n",
    "    \"Ambulance\": \"Commercial\",\n",
    "    \"Train\": \"Train\",\n",
    "    \"Trolley\": \"Trolley\",\n",
    "    \"ATV\": \"Off-road\",\n",
    "    \"Quad\": \"Off-road\",\n",
    "    \"Moped\": \"Motorcycle\",\n",
    "    \"Van\": \"Auto\",\n",
    "    \"Pedestrian\": \"Pedestrian\",\n",
    "    \"Tree\": \"Object\",\n",
    "}\n",
    "df[\"primary_vehicle\"] = df[\"primary_vehicle\"].map(vehicle_categories)\n",
    "\n",
    "\n",
    "unmapped = df[df[\"primary_vehicle\"].isna()][\"primary_vehicle\"].unique()\n",
    "\n",
    "\n",
    "df[\"primary_vehicle\"] = df[\"primary_vehicle\"].fillna(\"Others\")\n",
    "print(df[\"primary_vehicle\"].value_counts())"
   ]
  },
  {
   "cell_type": "code",
   "execution_count": 19,
   "id": "3f976ee5",
   "metadata": {
    "execution": {
     "iopub.execute_input": "2025-05-30T06:20:42.178006Z",
     "iopub.status.busy": "2025-05-30T06:20:42.177773Z",
     "iopub.status.idle": "2025-05-30T06:20:42.184066Z",
     "shell.execute_reply": "2025-05-30T06:20:42.183473Z"
    },
    "papermill": {
     "duration": 0.012879,
     "end_time": "2025-05-30T06:20:42.185183",
     "exception": false,
     "start_time": "2025-05-30T06:20:42.172304",
     "status": "completed"
    },
    "tags": []
   },
   "outputs": [
    {
     "data": {
      "text/plain": [
       "secondary_vehicle\n",
       "Pedestrian               316\n",
       "Auto                     234\n",
       "Fixed Object             137\n",
       "Bicycle                   17\n",
       "Bicyclist                 10\n",
       "M/C                        9\n",
       "Parked veh.                8\n",
       "Tree                       6\n",
       "Parked                     4\n",
       "Scooter                    4\n",
       "Bus                        4\n",
       "Motorcycle                 3\n",
       "E-Scooter                  3\n",
       "Ground                     3\n",
       "Parked Trailer             3\n",
       "Fixed object               3\n",
       "Dirt-bike                  3\n",
       "Front-end loader           2\n",
       "M/C and PED                2\n",
       "Auto (Parked)              2\n",
       "Trolley car                2\n",
       "Parked auto                2\n",
       "Tractor-Trailer            2\n",
       "Mini-bike                  2\n",
       "Truck                      1\n",
       "Parked autos               1\n",
       "Pedestrian on scooter      1\n",
       "ATV                        1\n",
       "T/T                        1\n",
       "E-Bicycle                  1\n",
       "School Bus                 1\n",
       "Dirtbike                   1\n",
       "Ped on skateboard          1\n",
       "Moped                      1\n",
       "Auto                       1\n",
       "Pedestrians                1\n",
       "Parked TT                  1\n",
       "Name: count, dtype: int64"
      ]
     },
     "execution_count": 19,
     "metadata": {},
     "output_type": "execute_result"
    }
   ],
   "source": [
    "df[\"secondary_vehicle\"].value_counts()"
   ]
  },
  {
   "cell_type": "code",
   "execution_count": 20,
   "id": "6d1f0232",
   "metadata": {
    "execution": {
     "iopub.execute_input": "2025-05-30T06:20:42.196297Z",
     "iopub.status.busy": "2025-05-30T06:20:42.195682Z",
     "iopub.status.idle": "2025-05-30T06:20:42.208412Z",
     "shell.execute_reply": "2025-05-30T06:20:42.207624Z"
    },
    "papermill": {
     "duration": 0.019633,
     "end_time": "2025-05-30T06:20:42.209726",
     "exception": false,
     "start_time": "2025-05-30T06:20:42.190093",
     "status": "completed"
    },
    "tags": []
   },
   "outputs": [
    {
     "data": {
      "text/plain": [
       "secondary_vehicle\n",
       "Pedestrian            319\n",
       "Auto                  234\n",
       "Fixed Object          140\n",
       "Bicycle                28\n",
       "Motorcycle             26\n",
       "Parked Vehicle         18\n",
       "Bus                     5\n",
       "Truck                   4\n",
       "Ground                  3\n",
       "Trailer                 3\n",
       "Trolley                 2\n",
       "Mixed                   2\n",
       "Commercial Vehicle      2\n",
       "Off-road                1\n",
       "Name: count, dtype: int64"
      ]
     },
     "execution_count": 20,
     "metadata": {},
     "output_type": "execute_result"
    }
   ],
   "source": [
    "standardization_map = {\n",
    "    \"Pedestrian on scooter\": \"Pedestrian\",\n",
    "    \"Ped on skateboard\": \"Pedestrian\",\n",
    "    \"Pedestrians\": \"Pedestrian\",\n",
    "    \"Parked veh.\": \"Parked Vehicle\",\n",
    "    \"Parked auto\": \"Parked Vehicle\",\n",
    "    \"Parked autos\": \"Parked Vehicle\",\n",
    "    \"Auto (Parked)\": \"Parked Vehicle\",\n",
    "    \"Parked\": \"Parked Vehicle\",\n",
    "    \"Parked TT\": \"Parked Vehicle\",\n",
    "    \"T/T\": \"Truck\",\n",
    "    \"Tractor-Trailer\": \"Truck\",\n",
    "    \"Dirt-bike\": \"Dirtbike\",\n",
    "    \"Mini-bike\": \"Dirtbike\",\n",
    "    \"E-Scooter\": \"Scooter\",\n",
    "    \"E-Bicycle\": \"Bicycle\",\n",
    "    \"Bicyclist\": \"Bicycle\",\n",
    "    \"Fixed object\": \"Fixed Object\",\n",
    "    \"Trolley car\": \"Trolley\",\n",
    "    \"M/C and PED\": \"Motorcycle + Pedestrian\",\n",
    "    \"School Bus\": \"Bus\",\n",
    "    \"Front-end loader\": \"Construction Equipment\",\n",
    "}\n",
    "\n",
    "df[\"secondary_vehicle\"] = df[\"secondary_vehicle\"].replace(standardization_map)\n",
    "main_categories = {\n",
    "    \"Pedestrian\": \"Pedestrian\",\n",
    "    \"Auto\": \"Auto\",\n",
    "    \"Fixed Object\": \"Fixed Object\",\n",
    "    \"Bicycle\": \"Bicycle\",\n",
    "    \"M/C\": \"Motorcycle\",\n",
    "    \"Parked Vehicle\": \"Parked Vehicle\",\n",
    "    \"Bus\": \"Bus\",\n",
    "    \"Dirtbike\": \"Motorcycle\",\n",
    "    \"Scooter\": \"Motorcycle\",\n",
    "    \"Motorcycle\": \"Motorcycle\",\n",
    "    \"Truck\": \"Truck\",\n",
    "    \"Trolley\": \"Trolley\",\n",
    "    \"Ground\": \"Ground\",\n",
    "    \"Parked Trailer\": \"Trailer\",\n",
    "    \"ATV\": \"Off-road\",\n",
    "    \"Moped\": \"Motorcycle\",\n",
    "    \"Construction Equipment\": \"Commercial Vehicle\",\n",
    "    \"Motorcycle + Pedestrian\": \"Mixed\",\n",
    "}\n",
    "df[\"secondary_vehicle\"] = df[\"secondary_vehicle\"].map(main_categories)\n",
    "df[\"secondary_vehicle\"].value_counts()"
   ]
  },
  {
   "cell_type": "code",
   "execution_count": 21,
   "id": "60422270",
   "metadata": {
    "execution": {
     "iopub.execute_input": "2025-05-30T06:20:42.222782Z",
     "iopub.status.busy": "2025-05-30T06:20:42.222301Z",
     "iopub.status.idle": "2025-05-30T06:20:42.244417Z",
     "shell.execute_reply": "2025-05-30T06:20:42.243452Z"
    },
    "papermill": {
     "duration": 0.029483,
     "end_time": "2025-05-30T06:20:42.245767",
     "exception": false,
     "start_time": "2025-05-30T06:20:42.216284",
     "status": "completed"
    },
    "tags": []
   },
   "outputs": [
    {
     "name": "stdout",
     "output_type": "stream",
     "text": [
      "<class 'pandas.core.frame.DataFrame'>\n",
      "RangeIndex: 797 entries, 0 to 796\n",
      "Data columns (total 18 columns):\n",
      " #   Column                Non-Null Count  Dtype         \n",
      "---  ------                --------------  -----         \n",
      " 0   crash_id              797 non-null    Int64         \n",
      " 1   year                  797 non-null    int32         \n",
      " 2   police_district       797 non-null    category      \n",
      " 3   crash_date            797 non-null    datetime64[ns]\n",
      " 4   day_name              797 non-null    category      \n",
      " 5   primary_street        797 non-null    string        \n",
      " 6   age                   792 non-null    Float64       \n",
      " 7   victim_gender         796 non-null    category      \n",
      " 8   collision_type        797 non-null    string        \n",
      " 9   hit_and_run           797 non-null    bool          \n",
      " 10  primary_vehicle       797 non-null    category      \n",
      " 11  secondary_vehicle     787 non-null    category      \n",
      " 12  arrest_made           781 non-null    category      \n",
      " 13  investigation_status  793 non-null    string        \n",
      " 14  time                  292 non-null    object        \n",
      " 15  latitude              783 non-null    float64       \n",
      " 16  longitude             783 non-null    float64       \n",
      " 17  age_group             790 non-null    category      \n",
      "dtypes: Float64(1), Int64(1), bool(1), category(7), datetime64[ns](1), float64(2), int32(1), object(1), string(3)\n",
      "memory usage: 70.0+ KB\n"
     ]
    }
   ],
   "source": [
    "data_types = {\n",
    "    'crash_id': 'Int64',\n",
    "    'year': 'int32',\n",
    "    'police_district': 'category',\n",
    "    'crash_date': 'datetime64[ns]',\n",
    "    'day_name': 'category',\n",
    "    'primary_street': 'string',\n",
    "    'age': 'Float64',\n",
    "    'victim_gender': 'category',\n",
    "    'collision_type': 'string',\n",
    "    'hit_and_run': 'bool',\n",
    "    'primary_vehicle': 'category',\n",
    "    'secondary_vehicle': 'category',\n",
    "    'arrest_made': 'category',\n",
    "    'investigation_status': 'string',\n",
    "    'time': 'object',\n",
    "    'latitude': 'float64',\n",
    "    'longitude': 'float64',\n",
    "    'age_group': 'category'\n",
    "}\n",
    "df = df.astype(data_types)\n",
    "df.info()"
   ]
  },
  {
   "cell_type": "code",
   "execution_count": 22,
   "id": "b653a695",
   "metadata": {
    "execution": {
     "iopub.execute_input": "2025-05-30T06:20:42.256892Z",
     "iopub.status.busy": "2025-05-30T06:20:42.256647Z",
     "iopub.status.idle": "2025-05-30T06:20:42.281185Z",
     "shell.execute_reply": "2025-05-30T06:20:42.280378Z"
    },
    "papermill": {
     "duration": 0.031766,
     "end_time": "2025-05-30T06:20:42.282636",
     "exception": false,
     "start_time": "2025-05-30T06:20:42.250870",
     "status": "completed"
    },
    "tags": []
   },
   "outputs": [],
   "source": [
    "df.to_csv(\"/kaggle/working/philadelphia_fatal_crashes_clean.csv\")"
   ]
  },
  {
   "cell_type": "code",
   "execution_count": 23,
   "id": "f37cd76e",
   "metadata": {
    "execution": {
     "iopub.execute_input": "2025-05-30T06:20:42.294059Z",
     "iopub.status.busy": "2025-05-30T06:20:42.293797Z",
     "iopub.status.idle": "2025-05-30T06:20:42.312789Z",
     "shell.execute_reply": "2025-05-30T06:20:42.312010Z"
    },
    "papermill": {
     "duration": 0.026131,
     "end_time": "2025-05-30T06:20:42.314137",
     "exception": false,
     "start_time": "2025-05-30T06:20:42.288006",
     "status": "completed"
    },
    "tags": []
   },
   "outputs": [
    {
     "data": {
      "text/html": [
       "<div>\n",
       "<style scoped>\n",
       "    .dataframe tbody tr th:only-of-type {\n",
       "        vertical-align: middle;\n",
       "    }\n",
       "\n",
       "    .dataframe tbody tr th {\n",
       "        vertical-align: top;\n",
       "    }\n",
       "\n",
       "    .dataframe thead th {\n",
       "        text-align: right;\n",
       "    }\n",
       "</style>\n",
       "<table border=\"1\" class=\"dataframe\">\n",
       "  <thead>\n",
       "    <tr style=\"text-align: right;\">\n",
       "      <th></th>\n",
       "      <th>crash_id</th>\n",
       "      <th>year</th>\n",
       "      <th>police_district</th>\n",
       "      <th>crash_date</th>\n",
       "      <th>day_name</th>\n",
       "      <th>primary_street</th>\n",
       "      <th>age</th>\n",
       "      <th>victim_gender</th>\n",
       "      <th>collision_type</th>\n",
       "      <th>hit_and_run</th>\n",
       "      <th>primary_vehicle</th>\n",
       "      <th>secondary_vehicle</th>\n",
       "      <th>arrest_made</th>\n",
       "      <th>investigation_status</th>\n",
       "      <th>time</th>\n",
       "      <th>latitude</th>\n",
       "      <th>longitude</th>\n",
       "      <th>age_group</th>\n",
       "    </tr>\n",
       "  </thead>\n",
       "  <tbody>\n",
       "    <tr>\n",
       "      <th>722</th>\n",
       "      <td>50226</td>\n",
       "      <td>2024</td>\n",
       "      <td>19</td>\n",
       "      <td>2024-09-26</td>\n",
       "      <td>Thursday</td>\n",
       "      <td>66th St.</td>\n",
       "      <td>14.0</td>\n",
       "      <td>F</td>\n",
       "      <td>Unit #1 was traveling east on Haverford Ave. a...</td>\n",
       "      <td>True</td>\n",
       "      <td>Auto</td>\n",
       "      <td>Pedestrian</td>\n",
       "      <td>No</td>\n",
       "      <td>Active investigation</td>\n",
       "      <td>21:38:00</td>\n",
       "      <td>39.972348</td>\n",
       "      <td>-75.248872</td>\n",
       "      <td>0-18</td>\n",
       "    </tr>\n",
       "    <tr>\n",
       "      <th>270</th>\n",
       "      <td>49775</td>\n",
       "      <td>2021</td>\n",
       "      <td>24</td>\n",
       "      <td>2021-03-19</td>\n",
       "      <td>Friday</td>\n",
       "      <td>Erie Ave.</td>\n",
       "      <td>39.0</td>\n",
       "      <td>F</td>\n",
       "      <td>Pedestrian was crossing Erie Ave. when struck ...</td>\n",
       "      <td>True</td>\n",
       "      <td>Auto</td>\n",
       "      <td>Pedestrian</td>\n",
       "      <td>Pending</td>\n",
       "      <td>Reviewing charges</td>\n",
       "      <td>NaN</td>\n",
       "      <td>40.005401</td>\n",
       "      <td>-75.106656</td>\n",
       "      <td>36-45</td>\n",
       "    </tr>\n",
       "    <tr>\n",
       "      <th>320</th>\n",
       "      <td>49824</td>\n",
       "      <td>2021</td>\n",
       "      <td>39</td>\n",
       "      <td>2021-08-08</td>\n",
       "      <td>Sunday</td>\n",
       "      <td>Kelly Drive</td>\n",
       "      <td>31.0</td>\n",
       "      <td>M</td>\n",
       "      <td>M/C S/B on Kelly Drive, lost control. Struck g...</td>\n",
       "      <td>False</td>\n",
       "      <td>Motorcycle</td>\n",
       "      <td>Auto</td>\n",
       "      <td>No</td>\n",
       "      <td>No arrest. Driver deceased.</td>\n",
       "      <td>NaN</td>\n",
       "      <td>40.008293</td>\n",
       "      <td>-75.194539</td>\n",
       "      <td>26-35</td>\n",
       "    </tr>\n",
       "    <tr>\n",
       "      <th>652</th>\n",
       "      <td>50157</td>\n",
       "      <td>2024</td>\n",
       "      <td>26</td>\n",
       "      <td>2024-03-13</td>\n",
       "      <td>Wednesday</td>\n",
       "      <td>Lehigh Ave.</td>\n",
       "      <td>48.0</td>\n",
       "      <td>F</td>\n",
       "      <td>Unit #1 was traveling east on Lehigh Ave. cros...</td>\n",
       "      <td>False</td>\n",
       "      <td>Motorcycle</td>\n",
       "      <td>Auto</td>\n",
       "      <td>No</td>\n",
       "      <td>Active investigation</td>\n",
       "      <td>19:22:00</td>\n",
       "      <td>39.987720</td>\n",
       "      <td>-75.123587</td>\n",
       "      <td>46-55</td>\n",
       "    </tr>\n",
       "    <tr>\n",
       "      <th>235</th>\n",
       "      <td>49741</td>\n",
       "      <td>2020</td>\n",
       "      <td>25</td>\n",
       "      <td>2020-12-12</td>\n",
       "      <td>Saturday</td>\n",
       "      <td>Erie Ave</td>\n",
       "      <td>40.0</td>\n",
       "      <td>M</td>\n",
       "      <td>Unit #1, illegal ATV, travelling E/B on Erie, ...</td>\n",
       "      <td>False</td>\n",
       "      <td>Off-road</td>\n",
       "      <td>Auto</td>\n",
       "      <td>Pending</td>\n",
       "      <td>Under Investigation</td>\n",
       "      <td>NaN</td>\n",
       "      <td>40.008762</td>\n",
       "      <td>-75.147750</td>\n",
       "      <td>36-45</td>\n",
       "    </tr>\n",
       "  </tbody>\n",
       "</table>\n",
       "</div>"
      ],
      "text/plain": [
       "     crash_id  year police_district crash_date   day_name primary_street  \\\n",
       "722     50226  2024              19 2024-09-26   Thursday       66th St.   \n",
       "270     49775  2021              24 2021-03-19     Friday      Erie Ave.   \n",
       "320     49824  2021              39 2021-08-08     Sunday    Kelly Drive   \n",
       "652     50157  2024              26 2024-03-13  Wednesday    Lehigh Ave.   \n",
       "235     49741  2020              25 2020-12-12   Saturday       Erie Ave   \n",
       "\n",
       "      age victim_gender                                     collision_type  \\\n",
       "722  14.0             F  Unit #1 was traveling east on Haverford Ave. a...   \n",
       "270  39.0             F  Pedestrian was crossing Erie Ave. when struck ...   \n",
       "320  31.0             M  M/C S/B on Kelly Drive, lost control. Struck g...   \n",
       "652  48.0             F  Unit #1 was traveling east on Lehigh Ave. cros...   \n",
       "235  40.0             M  Unit #1, illegal ATV, travelling E/B on Erie, ...   \n",
       "\n",
       "     hit_and_run primary_vehicle secondary_vehicle arrest_made  \\\n",
       "722         True            Auto        Pedestrian          No   \n",
       "270         True            Auto        Pedestrian     Pending   \n",
       "320        False      Motorcycle              Auto          No   \n",
       "652        False      Motorcycle              Auto          No   \n",
       "235        False        Off-road              Auto     Pending   \n",
       "\n",
       "            investigation_status      time   latitude  longitude age_group  \n",
       "722         Active investigation  21:38:00  39.972348 -75.248872      0-18  \n",
       "270            Reviewing charges       NaN  40.005401 -75.106656     36-45  \n",
       "320  No arrest. Driver deceased.       NaN  40.008293 -75.194539     26-35  \n",
       "652         Active investigation  19:22:00  39.987720 -75.123587     46-55  \n",
       "235          Under Investigation       NaN  40.008762 -75.147750     36-45  "
      ]
     },
     "execution_count": 23,
     "metadata": {},
     "output_type": "execute_result"
    }
   ],
   "source": [
    "df.sample(5)"
   ]
  }
 ],
 "metadata": {
  "kaggle": {
   "accelerator": "none",
   "dataSources": [],
   "dockerImageVersionId": 31040,
   "isGpuEnabled": false,
   "isInternetEnabled": true,
   "language": "python",
   "sourceType": "notebook"
  },
  "kernelspec": {
   "display_name": "Python 3",
   "language": "python",
   "name": "python3"
  },
  "language_info": {
   "codemirror_mode": {
    "name": "ipython",
    "version": 3
   },
   "file_extension": ".py",
   "mimetype": "text/x-python",
   "name": "python",
   "nbconvert_exporter": "python",
   "pygments_lexer": "ipython3",
   "version": "3.11.11"
  },
  "papermill": {
   "default_parameters": {},
   "duration": 7.647745,
   "end_time": "2025-05-30T06:20:42.737153",
   "environment_variables": {},
   "exception": null,
   "input_path": "__notebook__.ipynb",
   "output_path": "__notebook__.ipynb",
   "parameters": {},
   "start_time": "2025-05-30T06:20:35.089408",
   "version": "2.6.0"
  }
 },
 "nbformat": 4,
 "nbformat_minor": 5
}
