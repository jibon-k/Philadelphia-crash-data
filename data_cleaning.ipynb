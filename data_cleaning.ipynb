{
 "cells": [
  {
   "cell_type": "code",
   "execution_count": 1,
   "id": "482a0dda",
   "metadata": {},
   "outputs": [],
   "source": [
    "import numpy as np\n",
    "import pandas as pd"
   ]
  },
  {
   "cell_type": "code",
   "execution_count": 2,
   "id": "4daf58e2",
   "metadata": {},
   "outputs": [],
   "source": [
    "cols = [\n",
    "    \"objectid\",\n",
    "    \"year\",\n",
    "    \"district\",\n",
    "    \"date_\",\n",
    "    \"primary_st\",\n",
    "    \"age\",\n",
    "    \"sex\",\n",
    "    \"crash_type\",\n",
    "    \"hit_____ru\",\n",
    "    \"veh1\",\n",
    "    \"veh2\",\n",
    "    \"arrest_yes\",\n",
    "    \"investigat\",\n",
    "    \"time_of_day__24hrs_\",\n",
    "    \"lat\",\n",
    "    \"lng\",\n",
    "]"
   ]
  },
  {
   "cell_type": "code",
   "execution_count": 3,
   "id": "ac6e846a",
   "metadata": {},
   "outputs": [],
   "source": [
    "df = pd.read_csv(\"./fatal_crashes_main.csv\", usecols=cols, index_col=False)\n",
    "column_mapping = {\n",
    "    \"objectid\": \"crash_id\",\n",
    "    \"district\": \"police_district\",\n",
    "    \"date_\": \"crash_date\",\n",
    "    \"primary_st\": \"primary_street\",\n",
    "    \"sex\": \"victim_gender\",\n",
    "    \"crash_type\": \"collision_type\",\n",
    "    \"hit_____ru\": \"hit_and_run\",\n",
    "    \"veh1\": \"primary_vehicle\",\n",
    "    \"veh2\": \"secondary_vehicle\",\n",
    "    \"arrest_yes\": \"arrest_made\",\n",
    "    \"investigat\": \"investigation_status\",\n",
    "    \"time_of_day__24hrs_\": \"time\",\n",
    "    \"lat\": \"latitude\",\n",
    "    \"lng\": \"longitude\",\n",
    "}\n",
    "df = df.rename(columns=column_mapping)"
   ]
  },
  {
   "cell_type": "code",
   "execution_count": 4,
   "id": "41f998df",
   "metadata": {},
   "outputs": [
    {
     "data": {
      "text/html": [
       "<div>\n",
       "<style scoped>\n",
       "    .dataframe tbody tr th:only-of-type {\n",
       "        vertical-align: middle;\n",
       "    }\n",
       "\n",
       "    .dataframe tbody tr th {\n",
       "        vertical-align: top;\n",
       "    }\n",
       "\n",
       "    .dataframe thead th {\n",
       "        text-align: right;\n",
       "    }\n",
       "</style>\n",
       "<table border=\"1\" class=\"dataframe\">\n",
       "  <thead>\n",
       "    <tr style=\"text-align: right;\">\n",
       "      <th></th>\n",
       "      <th>crash_id</th>\n",
       "      <th>year</th>\n",
       "      <th>police_district</th>\n",
       "      <th>crash_date</th>\n",
       "      <th>primary_street</th>\n",
       "      <th>age</th>\n",
       "      <th>victim_gender</th>\n",
       "      <th>collision_type</th>\n",
       "      <th>hit_and_run</th>\n",
       "      <th>primary_vehicle</th>\n",
       "      <th>secondary_vehicle</th>\n",
       "      <th>arrest_made</th>\n",
       "      <th>investigation_status</th>\n",
       "      <th>time</th>\n",
       "      <th>latitude</th>\n",
       "      <th>longitude</th>\n",
       "    </tr>\n",
       "  </thead>\n",
       "  <tbody>\n",
       "    <tr>\n",
       "      <th>703</th>\n",
       "      <td>48615</td>\n",
       "      <td>2024</td>\n",
       "      <td>39</td>\n",
       "      <td>2024-08-05 04:00:00+00</td>\n",
       "      <td>2022 W. Hunting Park Ave.</td>\n",
       "      <td>42.0</td>\n",
       "      <td>F</td>\n",
       "      <td>Unit #1 was traveling east on Hunting Park Ave...</td>\n",
       "      <td>Yes</td>\n",
       "      <td>Auto</td>\n",
       "      <td>Pedestrian</td>\n",
       "      <td>No</td>\n",
       "      <td>Active investigation</td>\n",
       "      <td>00:11:00</td>\n",
       "      <td>40.012657</td>\n",
       "      <td>-75.160945</td>\n",
       "    </tr>\n",
       "    <tr>\n",
       "      <th>187</th>\n",
       "      <td>48101</td>\n",
       "      <td>2020</td>\n",
       "      <td>19</td>\n",
       "      <td>2020-09-09 04:00:00+00</td>\n",
       "      <td>Parkside Ave.</td>\n",
       "      <td>45.0</td>\n",
       "      <td>M</td>\n",
       "      <td>Unit #1 operator was intoxicated, left roadway...</td>\n",
       "      <td>No</td>\n",
       "      <td>Auto</td>\n",
       "      <td>Pedestrian</td>\n",
       "      <td>Yes</td>\n",
       "      <td>Inv. Mans. HBV while DUI, DUI, Simp. Assault, ...</td>\n",
       "      <td>NaN</td>\n",
       "      <td>39.991408</td>\n",
       "      <td>-75.219698</td>\n",
       "    </tr>\n",
       "    <tr>\n",
       "      <th>660</th>\n",
       "      <td>48573</td>\n",
       "      <td>2024</td>\n",
       "      <td>2</td>\n",
       "      <td>2024-05-08 04:00:00+00</td>\n",
       "      <td>215 Comly St.</td>\n",
       "      <td>2.0</td>\n",
       "      <td>F</td>\n",
       "      <td>Unit #1 was double parked westbound at 215 W. ...</td>\n",
       "      <td>No</td>\n",
       "      <td>Auto</td>\n",
       "      <td>Pedestrian</td>\n",
       "      <td>No</td>\n",
       "      <td>Active investigation</td>\n",
       "      <td>17:35:00</td>\n",
       "      <td>40.048376</td>\n",
       "      <td>-75.105653</td>\n",
       "    </tr>\n",
       "  </tbody>\n",
       "</table>\n",
       "</div>"
      ],
      "text/plain": [
       "     crash_id  year  police_district              crash_date  \\\n",
       "703     48615  2024               39  2024-08-05 04:00:00+00   \n",
       "187     48101  2020               19  2020-09-09 04:00:00+00   \n",
       "660     48573  2024                2  2024-05-08 04:00:00+00   \n",
       "\n",
       "                primary_street   age victim_gender  \\\n",
       "703  2022 W. Hunting Park Ave.  42.0             F   \n",
       "187              Parkside Ave.  45.0             M   \n",
       "660              215 Comly St.   2.0             F   \n",
       "\n",
       "                                        collision_type hit_and_run  \\\n",
       "703  Unit #1 was traveling east on Hunting Park Ave...         Yes   \n",
       "187  Unit #1 operator was intoxicated, left roadway...          No   \n",
       "660  Unit #1 was double parked westbound at 215 W. ...          No   \n",
       "\n",
       "    primary_vehicle secondary_vehicle arrest_made  \\\n",
       "703            Auto        Pedestrian          No   \n",
       "187            Auto        Pedestrian         Yes   \n",
       "660            Auto        Pedestrian          No   \n",
       "\n",
       "                                  investigation_status      time   latitude  \\\n",
       "703                               Active investigation  00:11:00  40.012657   \n",
       "187  Inv. Mans. HBV while DUI, DUI, Simp. Assault, ...       NaN  39.991408   \n",
       "660                               Active investigation  17:35:00  40.048376   \n",
       "\n",
       "     longitude  \n",
       "703 -75.160945  \n",
       "187 -75.219698  \n",
       "660 -75.105653  "
      ]
     },
     "execution_count": 4,
     "metadata": {},
     "output_type": "execute_result"
    }
   ],
   "source": [
    "df.sample(3)"
   ]
  },
  {
   "cell_type": "code",
   "execution_count": 5,
   "id": "96682b37",
   "metadata": {},
   "outputs": [
    {
     "name": "stdout",
     "output_type": "stream",
     "text": [
      "<class 'pandas.core.frame.DataFrame'>\n",
      "RangeIndex: 796 entries, 0 to 795\n",
      "Data columns (total 16 columns):\n",
      " #   Column                Non-Null Count  Dtype  \n",
      "---  ------                --------------  -----  \n",
      " 0   crash_id              796 non-null    int64  \n",
      " 1   year                  796 non-null    int64  \n",
      " 2   police_district       796 non-null    int64  \n",
      " 3   crash_date            796 non-null    object \n",
      " 4   primary_street        796 non-null    object \n",
      " 5   age                   791 non-null    float64\n",
      " 6   victim_gender         795 non-null    object \n",
      " 7   collision_type        796 non-null    object \n",
      " 8   hit_and_run           796 non-null    object \n",
      " 9   primary_vehicle       796 non-null    object \n",
      " 10  secondary_vehicle     793 non-null    object \n",
      " 11  arrest_made           780 non-null    object \n",
      " 12  investigation_status  792 non-null    object \n",
      " 13  time                  291 non-null    object \n",
      " 14  latitude              782 non-null    float64\n",
      " 15  longitude             782 non-null    float64\n",
      "dtypes: float64(3), int64(3), object(10)\n",
      "memory usage: 99.6+ KB\n"
     ]
    }
   ],
   "source": [
    "df.info()"
   ]
  },
  {
   "cell_type": "code",
   "execution_count": 6,
   "id": "e5075a83",
   "metadata": {},
   "outputs": [
    {
     "data": {
      "text/plain": [
       "crash_id                  0\n",
       "year                      0\n",
       "police_district           0\n",
       "crash_date                0\n",
       "primary_street            0\n",
       "age                       5\n",
       "victim_gender             1\n",
       "collision_type            0\n",
       "hit_and_run               0\n",
       "primary_vehicle           0\n",
       "secondary_vehicle         3\n",
       "arrest_made              16\n",
       "investigation_status      4\n",
       "time                    505\n",
       "latitude                 14\n",
       "longitude                14\n",
       "dtype: int64"
      ]
     },
     "execution_count": 6,
     "metadata": {},
     "output_type": "execute_result"
    }
   ],
   "source": [
    "df.isnull().sum()"
   ]
  },
  {
   "cell_type": "code",
   "execution_count": 7,
   "id": "d77b6085",
   "metadata": {},
   "outputs": [
    {
     "data": {
      "text/html": [
       "<div>\n",
       "<style scoped>\n",
       "    .dataframe tbody tr th:only-of-type {\n",
       "        vertical-align: middle;\n",
       "    }\n",
       "\n",
       "    .dataframe tbody tr th {\n",
       "        vertical-align: top;\n",
       "    }\n",
       "\n",
       "    .dataframe thead th {\n",
       "        text-align: right;\n",
       "    }\n",
       "</style>\n",
       "<table border=\"1\" class=\"dataframe\">\n",
       "  <thead>\n",
       "    <tr style=\"text-align: right;\">\n",
       "      <th></th>\n",
       "      <th>crash_id</th>\n",
       "      <th>year</th>\n",
       "      <th>police_district</th>\n",
       "      <th>age</th>\n",
       "      <th>latitude</th>\n",
       "      <th>longitude</th>\n",
       "    </tr>\n",
       "  </thead>\n",
       "  <tbody>\n",
       "    <tr>\n",
       "      <th>count</th>\n",
       "      <td>796.000000</td>\n",
       "      <td>796.000000</td>\n",
       "      <td>796.000000</td>\n",
       "      <td>791.000000</td>\n",
       "      <td>782.000000</td>\n",
       "      <td>782.000000</td>\n",
       "    </tr>\n",
       "    <tr>\n",
       "      <th>mean</th>\n",
       "      <td>48311.500000</td>\n",
       "      <td>2021.708543</td>\n",
       "      <td>18.410804</td>\n",
       "      <td>43.342604</td>\n",
       "      <td>40.011418</td>\n",
       "      <td>-75.156395</td>\n",
       "    </tr>\n",
       "    <tr>\n",
       "      <th>std</th>\n",
       "      <td>229.929699</td>\n",
       "      <td>1.746292</td>\n",
       "      <td>10.887109</td>\n",
       "      <td>18.776303</td>\n",
       "      <td>0.145467</td>\n",
       "      <td>0.338102</td>\n",
       "    </tr>\n",
       "    <tr>\n",
       "      <th>min</th>\n",
       "      <td>47914.000000</td>\n",
       "      <td>2019.000000</td>\n",
       "      <td>1.000000</td>\n",
       "      <td>0.000000</td>\n",
       "      <td>39.884438</td>\n",
       "      <td>-80.502372</td>\n",
       "    </tr>\n",
       "    <tr>\n",
       "      <th>25%</th>\n",
       "      <td>48112.750000</td>\n",
       "      <td>2020.000000</td>\n",
       "      <td>9.000000</td>\n",
       "      <td>29.000000</td>\n",
       "      <td>39.974932</td>\n",
       "      <td>-75.179845</td>\n",
       "    </tr>\n",
       "    <tr>\n",
       "      <th>50%</th>\n",
       "      <td>48311.500000</td>\n",
       "      <td>2022.000000</td>\n",
       "      <td>17.000000</td>\n",
       "      <td>40.000000</td>\n",
       "      <td>40.005547</td>\n",
       "      <td>-75.144203</td>\n",
       "    </tr>\n",
       "    <tr>\n",
       "      <th>75%</th>\n",
       "      <td>48510.250000</td>\n",
       "      <td>2023.000000</td>\n",
       "      <td>25.000000</td>\n",
       "      <td>58.000000</td>\n",
       "      <td>40.033044</td>\n",
       "      <td>-75.097381</td>\n",
       "    </tr>\n",
       "    <tr>\n",
       "      <th>max</th>\n",
       "      <td>48709.000000</td>\n",
       "      <td>2025.000000</td>\n",
       "      <td>77.000000</td>\n",
       "      <td>99.000000</td>\n",
       "      <td>42.224336</td>\n",
       "      <td>-74.961302</td>\n",
       "    </tr>\n",
       "  </tbody>\n",
       "</table>\n",
       "</div>"
      ],
      "text/plain": [
       "           crash_id         year  police_district         age    latitude  \\\n",
       "count    796.000000   796.000000       796.000000  791.000000  782.000000   \n",
       "mean   48311.500000  2021.708543        18.410804   43.342604   40.011418   \n",
       "std      229.929699     1.746292        10.887109   18.776303    0.145467   \n",
       "min    47914.000000  2019.000000         1.000000    0.000000   39.884438   \n",
       "25%    48112.750000  2020.000000         9.000000   29.000000   39.974932   \n",
       "50%    48311.500000  2022.000000        17.000000   40.000000   40.005547   \n",
       "75%    48510.250000  2023.000000        25.000000   58.000000   40.033044   \n",
       "max    48709.000000  2025.000000        77.000000   99.000000   42.224336   \n",
       "\n",
       "        longitude  \n",
       "count  782.000000  \n",
       "mean   -75.156395  \n",
       "std      0.338102  \n",
       "min    -80.502372  \n",
       "25%    -75.179845  \n",
       "50%    -75.144203  \n",
       "75%    -75.097381  \n",
       "max    -74.961302  "
      ]
     },
     "execution_count": 7,
     "metadata": {},
     "output_type": "execute_result"
    }
   ],
   "source": [
    "df.describe()"
   ]
  },
  {
   "cell_type": "code",
   "execution_count": 8,
   "id": "f7f39502",
   "metadata": {},
   "outputs": [],
   "source": [
    "df[\"crash_date\"] = df[\"crash_date\"].str.split().str[0]\n",
    "df[\"crash_date\"] = pd.to_datetime(df[\"crash_date\"])"
   ]
  },
  {
   "cell_type": "code",
   "execution_count": 9,
   "id": "ee275749",
   "metadata": {},
   "outputs": [],
   "source": [
    "df.insert(\n",
    "    loc=df.columns.get_loc(\"crash_date\") + 1,\n",
    "    column=\"day_name\",\n",
    "    value=df[\"crash_date\"].dt.day_name(),\n",
    ")"
   ]
  },
  {
   "cell_type": "code",
   "execution_count": 10,
   "id": "d907e8e9",
   "metadata": {},
   "outputs": [],
   "source": [
    "df[\"age_group\"] = pd.cut(\n",
    "    df[\"age\"],\n",
    "    bins=[0, 18, 25, 35, 45, 55, 65, 75, 100],\n",
    "    labels=[\"0-18\", \"19-25\", \"26-35\", \"36-45\", \"46-55\", \"56-65\", \"66-75\", \"75+\"],\n",
    ")"
   ]
  },
  {
   "cell_type": "code",
   "execution_count": 11,
   "id": "659ef675",
   "metadata": {},
   "outputs": [
    {
     "data": {
      "text/plain": [
       "hit_and_run\n",
       "No     600\n",
       "Yes    194\n",
       "Unk      1\n",
       "??       1\n",
       "Name: count, dtype: int64"
      ]
     },
     "execution_count": 11,
     "metadata": {},
     "output_type": "execute_result"
    }
   ],
   "source": [
    "df[\"hit_and_run\"].value_counts()"
   ]
  },
  {
   "cell_type": "code",
   "execution_count": 12,
   "id": "bf20885a",
   "metadata": {},
   "outputs": [],
   "source": [
    "df[\"hit_and_run\"] = np.where(\n",
    "    df[\"hit_and_run\"] == \"Yes\", 1, np.where(df[\"hit_and_run\"] == \"No\", 0, np.nan)\n",
    ")"
   ]
  },
  {
   "cell_type": "code",
   "execution_count": 13,
   "id": "5fb1e823",
   "metadata": {},
   "outputs": [
    {
     "data": {
      "text/plain": [
       "arrest_made\n",
       "No               549\n",
       "Pending          147\n",
       "Yes               73\n",
       "No                 4\n",
       "TBD                2\n",
       "Pending ID         1\n",
       "Unk.               1\n",
       "Arrested           1\n",
       "None expected      1\n",
       "N                  1\n",
       "Name: count, dtype: int64"
      ]
     },
     "execution_count": 13,
     "metadata": {},
     "output_type": "execute_result"
    }
   ],
   "source": [
    "df[\"arrest_made\"].value_counts()"
   ]
  },
  {
   "cell_type": "code",
   "execution_count": 14,
   "id": "7fccb4b0",
   "metadata": {},
   "outputs": [],
   "source": [
    "day_order = [\n",
    "    \"Monday\",\n",
    "    \"Tuesday\",\n",
    "    \"Wednesday\",\n",
    "    \"Thursday\",\n",
    "    \"Friday\",\n",
    "    \"Saturday\",\n",
    "    \"Sunday\",\n",
    "]\n",
    "df[\"day_name\"] = pd.Categorical(df[\"day_name\"], categories=day_order, ordered=True)"
   ]
  },
  {
   "cell_type": "code",
   "execution_count": 15,
   "id": "010229f9",
   "metadata": {},
   "outputs": [
    {
     "data": {
      "text/plain": [
       "victim_gender\n",
       "M     577\n",
       "F     214\n",
       "Mn      1\n",
       "MN      1\n",
       "f       1\n",
       "M.      1\n",
       "Name: count, dtype: int64"
      ]
     },
     "execution_count": 15,
     "metadata": {},
     "output_type": "execute_result"
    }
   ],
   "source": [
    "df[\"victim_gender\"].value_counts()"
   ]
  },
  {
   "cell_type": "code",
   "execution_count": 16,
   "id": "096cccf9",
   "metadata": {},
   "outputs": [
    {
     "data": {
      "text/plain": [
       "victim_gender\n",
       "M    580\n",
       "F    215\n",
       "Name: count, dtype: int64"
      ]
     },
     "execution_count": 16,
     "metadata": {},
     "output_type": "execute_result"
    }
   ],
   "source": [
    "gender_mapping = {\n",
    "    \"M\": \"M\",\n",
    "    \"F\": \"F\",\n",
    "    \"MN\": \"M\",\n",
    "    \"M.\": \"M\",\n",
    "    \"Mn\": \"M\",\n",
    "    \"f\": \"F\",\n",
    "}\n",
    "\n",
    "df[\"victim_gender\"] = df[\"victim_gender\"].map(gender_mapping)\n",
    "df[\"victim_gender\"].value_counts()"
   ]
  },
  {
   "cell_type": "code",
   "execution_count": 17,
   "id": "1e9c5d04",
   "metadata": {},
   "outputs": [
    {
     "data": {
      "text/plain": [
       "primary_vehicle\n",
       "Auto                  623\n",
       "M/C                    78\n",
       "Motorcycle             29\n",
       "Auto                   10\n",
       "Train                   9\n",
       "Dirtbike                9\n",
       "ATV                     4\n",
       "Bus                     4\n",
       "Bicyclist               2\n",
       "Dirt Bike               2\n",
       "SEPTA Bus               2\n",
       "Motor Scooter           2\n",
       "Quad                    2\n",
       "Bike                    2\n",
       "unk                     1\n",
       "Van                     1\n",
       "T/T                     1\n",
       "Moped                   1\n",
       "Septa bus               1\n",
       "Truck                   1\n",
       "Trolley Car             1\n",
       "Auto (Police)           1\n",
       "Ambulance               1\n",
       "Tow truck               1\n",
       "Can Am Slingshot        1\n",
       "Pedestrian              1\n",
       "PFD Ladder TK           1\n",
       "SEPTA Trolley           1\n",
       "SEPTA Subway Train      1\n",
       "Tree                    1\n",
       "School Bus              1\n",
       "Auto (Mack TK)          1\n",
       "Name: count, dtype: int64"
      ]
     },
     "execution_count": 17,
     "metadata": {},
     "output_type": "execute_result"
    }
   ],
   "source": [
    "df[\"primary_vehicle\"].value_counts()"
   ]
  },
  {
   "cell_type": "code",
   "execution_count": 18,
   "id": "d854ca4f",
   "metadata": {},
   "outputs": [
    {
     "name": "stdout",
     "output_type": "stream",
     "text": [
      "primary_vehicle\n",
      "Auto          626\n",
      "Motorcycle    121\n",
      "Commercial     13\n",
      "Others         12\n",
      "Train          10\n",
      "Off-road        7\n",
      "Bicycle         4\n",
      "Pedestrian      1\n",
      "Trolley         1\n",
      "Object          1\n",
      "Name: count, dtype: int64\n"
     ]
    }
   ],
   "source": [
    "vehicle_mapping = {\n",
    "    \"Dirt Bike\": \"Dirtbike\",\n",
    "    \"SEPTA Bus\": \"Bus\",\n",
    "    \"Septa bus\": \"Bus\",\n",
    "    \"Motor Scooter\": \"Moped\",\n",
    "    \"T/T\": \"Truck\",\n",
    "    \"Auto (Police)\": \"Auto\",\n",
    "    \"Auto (Mack TK)\": \"Auto\",\n",
    "    \"SEPTA Trolley\": \"Trolley\",\n",
    "    \"SEPTA Subway Train\": \"Train\",\n",
    "    \"PFD Ladder TK\": \"Truck\",\n",
    "    \"Can Am Slingshot\": \"ATV\",\n",
    "}\n",
    "df[\"primary_vehicle\"] = df[\"primary_vehicle\"].replace(vehicle_mapping)\n",
    "vehicle_categories = {\n",
    "    \"M/C\": \"Motorcycle\",\n",
    "    \"Auto\": \"Auto\",\n",
    "    \"Motorcycle\": \"Motorcycle\",\n",
    "    \"Dirtbike\": \"Motorcycle\",\n",
    "    \"Bike\": \"Bicycle\",\n",
    "    \"Bicyclist\": \"Bicycle\",\n",
    "    \"Bus\": \"Commercial\",\n",
    "    \"School Bus\": \"Commercial\",\n",
    "    \"Truck\": \"Commercial\",\n",
    "    \"Tow truck\": \"Commercial\",\n",
    "    \"Ambulance\": \"Commercial\",\n",
    "    \"Train\": \"Train\",\n",
    "    \"Trolley\": \"Trolley\",\n",
    "    \"ATV\": \"Off-road\",\n",
    "    \"Quad\": \"Off-road\",\n",
    "    \"Moped\": \"Motorcycle\",\n",
    "    \"Van\": \"Auto\",\n",
    "    \"Pedestrian\": \"Pedestrian\",\n",
    "    \"Tree\": \"Object\",\n",
    "}\n",
    "df[\"primary_vehicle\"] = df[\"primary_vehicle\"].map(vehicle_categories)\n",
    "\n",
    "\n",
    "unmapped = df[df[\"primary_vehicle\"].isna()][\"primary_vehicle\"].unique()\n",
    "\n",
    "\n",
    "df[\"primary_vehicle\"] = df[\"primary_vehicle\"].fillna(\"Others\")\n",
    "print(df[\"primary_vehicle\"].value_counts())"
   ]
  },
  {
   "cell_type": "code",
   "execution_count": 19,
   "id": "c8e8e492",
   "metadata": {},
   "outputs": [
    {
     "data": {
      "text/plain": [
       "secondary_vehicle\n",
       "Pedestrian               315\n",
       "Auto                     234\n",
       "Fixed Object             137\n",
       "Bicycle                   17\n",
       "Bicyclist                 10\n",
       "M/C                        9\n",
       "Parked veh.                8\n",
       "Tree                       6\n",
       "Scooter                    4\n",
       "Parked                     4\n",
       "Bus                        4\n",
       "E-Scooter                  3\n",
       "Ground                     3\n",
       "Parked Trailer             3\n",
       "Fixed object               3\n",
       "Dirt-bike                  3\n",
       "Motorcycle                 3\n",
       "Tractor-Trailer            2\n",
       "M/C and PED                2\n",
       "Parked auto                2\n",
       "Trolley car                2\n",
       "Mini-bike                  2\n",
       "Front-end loader           2\n",
       "Auto (Parked)              2\n",
       "Dirtbike                   1\n",
       "Parked TT                  1\n",
       "T/T                        1\n",
       "School Bus                 1\n",
       "Ped on skateboard          1\n",
       "Parked autos               1\n",
       "Pedestrian on scooter      1\n",
       "ATV                        1\n",
       "Truck                      1\n",
       "E-Bicycle                  1\n",
       "Moped                      1\n",
       "Auto                       1\n",
       "Pedestrians                1\n",
       "Name: count, dtype: int64"
      ]
     },
     "execution_count": 19,
     "metadata": {},
     "output_type": "execute_result"
    }
   ],
   "source": [
    "df[\"secondary_vehicle\"].value_counts()"
   ]
  },
  {
   "cell_type": "code",
   "execution_count": 20,
   "id": "890a0dc6",
   "metadata": {},
   "outputs": [
    {
     "data": {
      "text/plain": [
       "secondary_vehicle\n",
       "Pedestrian            318\n",
       "Auto                  234\n",
       "Fixed Object          140\n",
       "Bicycle                28\n",
       "Motorcycle             26\n",
       "Parked Vehicle         18\n",
       "Bus                     5\n",
       "Truck                   4\n",
       "Ground                  3\n",
       "Trailer                 3\n",
       "Trolley                 2\n",
       "Mixed                   2\n",
       "Commercial Vehicle      2\n",
       "Off-road                1\n",
       "Name: count, dtype: int64"
      ]
     },
     "execution_count": 20,
     "metadata": {},
     "output_type": "execute_result"
    }
   ],
   "source": [
    "standardization_map = {\n",
    "    \"Pedestrian on scooter\": \"Pedestrian\",\n",
    "    \"Ped on skateboard\": \"Pedestrian\",\n",
    "    \"Pedestrians\": \"Pedestrian\",\n",
    "    \"Parked veh.\": \"Parked Vehicle\",\n",
    "    \"Parked auto\": \"Parked Vehicle\",\n",
    "    \"Parked autos\": \"Parked Vehicle\",\n",
    "    \"Auto (Parked)\": \"Parked Vehicle\",\n",
    "    \"Parked\": \"Parked Vehicle\",\n",
    "    \"Parked TT\": \"Parked Vehicle\",\n",
    "    \"T/T\": \"Truck\",\n",
    "    \"Tractor-Trailer\": \"Truck\",\n",
    "    \"Dirt-bike\": \"Dirtbike\",\n",
    "    \"Mini-bike\": \"Dirtbike\",\n",
    "    \"E-Scooter\": \"Scooter\",\n",
    "    \"E-Bicycle\": \"Bicycle\",\n",
    "    \"Bicyclist\": \"Bicycle\",\n",
    "    \"Fixed object\": \"Fixed Object\",\n",
    "    \"Trolley car\": \"Trolley\",\n",
    "    \"M/C and PED\": \"Motorcycle + Pedestrian\",\n",
    "    \"School Bus\": \"Bus\",\n",
    "    \"Front-end loader\": \"Construction Equipment\",\n",
    "}\n",
    "\n",
    "df[\"secondary_vehicle\"] = df[\"secondary_vehicle\"].replace(standardization_map)\n",
    "main_categories = {\n",
    "    \"Pedestrian\": \"Pedestrian\",\n",
    "    \"Auto\": \"Auto\",\n",
    "    \"Fixed Object\": \"Fixed Object\",\n",
    "    \"Bicycle\": \"Bicycle\",\n",
    "    \"M/C\": \"Motorcycle\",\n",
    "    \"Parked Vehicle\": \"Parked Vehicle\",\n",
    "    \"Bus\": \"Bus\",\n",
    "    \"Dirtbike\": \"Motorcycle\",\n",
    "    \"Scooter\": \"Motorcycle\",\n",
    "    \"Motorcycle\": \"Motorcycle\",\n",
    "    \"Truck\": \"Truck\",\n",
    "    \"Trolley\": \"Trolley\",\n",
    "    \"Ground\": \"Ground\",\n",
    "    \"Parked Trailer\": \"Trailer\",\n",
    "    \"ATV\": \"Off-road\",\n",
    "    \"Moped\": \"Motorcycle\",\n",
    "    \"Construction Equipment\": \"Commercial Vehicle\",\n",
    "    \"Motorcycle + Pedestrian\": \"Mixed\",\n",
    "}\n",
    "df[\"secondary_vehicle\"] = df[\"secondary_vehicle\"].map(main_categories)\n",
    "df[\"secondary_vehicle\"].value_counts()"
   ]
  },
  {
   "cell_type": "code",
   "execution_count": 21,
   "id": "40b1e5c2",
   "metadata": {},
   "outputs": [
    {
     "name": "stdout",
     "output_type": "stream",
     "text": [
      "<class 'pandas.core.frame.DataFrame'>\n",
      "RangeIndex: 796 entries, 0 to 795\n",
      "Data columns (total 18 columns):\n",
      " #   Column                Non-Null Count  Dtype         \n",
      "---  ------                --------------  -----         \n",
      " 0   crash_id              796 non-null    Int64         \n",
      " 1   year                  796 non-null    int32         \n",
      " 2   police_district       796 non-null    category      \n",
      " 3   crash_date            796 non-null    datetime64[ns]\n",
      " 4   day_name              796 non-null    category      \n",
      " 5   primary_street        796 non-null    string        \n",
      " 6   age                   791 non-null    Float64       \n",
      " 7   victim_gender         795 non-null    category      \n",
      " 8   collision_type        796 non-null    string        \n",
      " 9   hit_and_run           796 non-null    bool          \n",
      " 10  primary_vehicle       796 non-null    category      \n",
      " 11  secondary_vehicle     786 non-null    category      \n",
      " 12  arrest_made           780 non-null    category      \n",
      " 13  investigation_status  792 non-null    string        \n",
      " 14  time                  291 non-null    object        \n",
      " 15  latitude              782 non-null    float64       \n",
      " 16  longitude             782 non-null    float64       \n",
      " 17  age_group             789 non-null    category      \n",
      "dtypes: Float64(1), Int64(1), bool(1), category(7), datetime64[ns](1), float64(2), int32(1), object(1), string(3)\n",
      "memory usage: 69.9+ KB\n"
     ]
    }
   ],
   "source": [
    "schema = pd.read_csv(\"schema.csv\", index_col=False)\n",
    "data_types = dict(zip(schema[\"column_name\"], schema[\"data_type\"]))\n",
    "df = df.astype(data_types)\n",
    "df.info()"
   ]
  },
  {
   "cell_type": "code",
   "execution_count": 22,
   "id": "d01d1dad",
   "metadata": {},
   "outputs": [],
   "source": [
    "df.to_csv(\"./philadelphia_fatal_crashes_clean.csv\")"
   ]
  },
  {
   "cell_type": "code",
   "execution_count": null,
   "id": "e28d476c",
   "metadata": {},
   "outputs": [],
   "source": []
  }
 ],
 "metadata": {
  "kernelspec": {
   "display_name": "default",
   "language": "python",
   "name": "python3"
  },
  "language_info": {
   "codemirror_mode": {
    "name": "ipython",
    "version": 3
   },
   "file_extension": ".py",
   "mimetype": "text/x-python",
   "name": "python",
   "nbconvert_exporter": "python",
   "pygments_lexer": "ipython3",
   "version": "3.13.3"
  }
 },
 "nbformat": 4,
 "nbformat_minor": 5
}
