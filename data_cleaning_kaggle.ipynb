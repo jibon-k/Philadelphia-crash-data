{
 "cells": [
  {
   "cell_type": "code",
   "execution_count": 1,
   "id": "8ae4850f",
   "metadata": {
    "execution": {
     "iopub.execute_input": "2025-05-30T06:15:21.723665Z",
     "iopub.status.busy": "2025-05-30T06:15:21.723347Z",
     "iopub.status.idle": "2025-05-30T06:15:24.120750Z",
     "shell.execute_reply": "2025-05-30T06:15:24.118830Z"
    },
    "papermill": {
     "duration": 2.407689,
     "end_time": "2025-05-30T06:15:24.123127",
     "exception": false,
     "start_time": "2025-05-30T06:15:21.715438",
     "status": "completed"
    },
    "tags": []
   },
   "outputs": [],
   "source": [
    "import numpy as np\n",
    "import pandas as pd"
   ]
  },
  {
   "cell_type": "code",
   "execution_count": 2,
   "id": "ab866a53",
   "metadata": {
    "execution": {
     "iopub.execute_input": "2025-05-30T06:15:24.136956Z",
     "iopub.status.busy": "2025-05-30T06:15:24.135946Z",
     "iopub.status.idle": "2025-05-30T06:15:24.143097Z",
     "shell.execute_reply": "2025-05-30T06:15:24.140594Z"
    },
    "papermill": {
     "duration": 0.016544,
     "end_time": "2025-05-30T06:15:24.145959",
     "exception": false,
     "start_time": "2025-05-30T06:15:24.129415",
     "status": "completed"
    },
    "tags": []
   },
   "outputs": [],
   "source": [
    "cols = [\n",
    "    \"objectid\",\n",
    "    \"year\",\n",
    "    \"district\",\n",
    "    \"date_\",\n",
    "    \"primary_st\",\n",
    "    \"age\",\n",
    "    \"sex\",\n",
    "    \"crash_type\",\n",
    "    \"hit_____ru\",\n",
    "    \"veh1\",\n",
    "    \"veh2\",\n",
    "    \"arrest_yes\",\n",
    "    \"investigat\",\n",
    "    \"time_of_day__24hrs_\",\n",
    "    \"lat\",\n",
    "    \"lng\",\n",
    "]"
   ]
  },
  {
   "cell_type": "code",
   "execution_count": 3,
   "id": "b0059d17",
   "metadata": {
    "execution": {
     "iopub.execute_input": "2025-05-30T06:15:24.158159Z",
     "iopub.status.busy": "2025-05-30T06:15:24.157706Z",
     "iopub.status.idle": "2025-05-30T06:15:25.144890Z",
     "shell.execute_reply": "2025-05-30T06:15:25.143871Z"
    },
    "papermill": {
     "duration": 0.994822,
     "end_time": "2025-05-30T06:15:25.146614",
     "exception": false,
     "start_time": "2025-05-30T06:15:24.151792",
     "status": "completed"
    },
    "tags": []
   },
   "outputs": [],
   "source": [
    "df = pd.read_csv(\n",
    "    \"https://phl.carto.com/api/v2/sql?filename=fatal_crashes&format=csv&skipfields=cartodb_id,the_geom,the_geom_webmercator&q=SELECT%20*,%20ST_Y(the_geom)%20AS%20lat,%20ST_X(the_geom)%20AS%20lng%20FROM%20fatal_crashes\",\n",
    "    usecols=cols,\n",
    "    index_col=False,\n",
    ")\n",
    "column_mapping = {\n",
    "    \"objectid\": \"crash_id\",\n",
    "    \"district\": \"police_district\",\n",
    "    \"date_\": \"crash_date\",\n",
    "    \"primary_st\": \"primary_street\",\n",
    "    \"sex\": \"victim_gender\",\n",
    "    \"crash_type\": \"collision_type\",\n",
    "    \"hit_____ru\": \"hit_and_run\",\n",
    "    \"veh1\": \"primary_vehicle\",\n",
    "    \"veh2\": \"secondary_vehicle\",\n",
    "    \"arrest_yes\": \"arrest_made\",\n",
    "    \"investigat\": \"investigation_status\",\n",
    "    \"time_of_day__24hrs_\": \"time\",\n",
    "    \"lat\": \"latitude\",\n",
    "    \"lng\": \"longitude\",\n",
    "}\n",
    "df = df.rename(columns=column_mapping)"
   ]
  },
  {
   "cell_type": "code",
   "execution_count": 4,
   "id": "b8e5268b",
   "metadata": {
    "execution": {
     "iopub.execute_input": "2025-05-30T06:15:25.156766Z",
     "iopub.status.busy": "2025-05-30T06:15:25.156446Z",
     "iopub.status.idle": "2025-05-30T06:15:25.193515Z",
     "shell.execute_reply": "2025-05-30T06:15:25.192576Z"
    },
    "papermill": {
     "duration": 0.04438,
     "end_time": "2025-05-30T06:15:25.195489",
     "exception": false,
     "start_time": "2025-05-30T06:15:25.151109",
     "status": "completed"
    },
    "tags": []
   },
   "outputs": [
    {
     "data": {
      "text/html": [
       "<div>\n",
       "<style scoped>\n",
       "    .dataframe tbody tr th:only-of-type {\n",
       "        vertical-align: middle;\n",
       "    }\n",
       "\n",
       "    .dataframe tbody tr th {\n",
       "        vertical-align: top;\n",
       "    }\n",
       "\n",
       "    .dataframe thead th {\n",
       "        text-align: right;\n",
       "    }\n",
       "</style>\n",
       "<table border=\"1\" class=\"dataframe\">\n",
       "  <thead>\n",
       "    <tr style=\"text-align: right;\">\n",
       "      <th></th>\n",
       "      <th>crash_id</th>\n",
       "      <th>year</th>\n",
       "      <th>police_district</th>\n",
       "      <th>crash_date</th>\n",
       "      <th>primary_street</th>\n",
       "      <th>age</th>\n",
       "      <th>victim_gender</th>\n",
       "      <th>collision_type</th>\n",
       "      <th>hit_and_run</th>\n",
       "      <th>primary_vehicle</th>\n",
       "      <th>secondary_vehicle</th>\n",
       "      <th>arrest_made</th>\n",
       "      <th>investigation_status</th>\n",
       "      <th>time</th>\n",
       "      <th>latitude</th>\n",
       "      <th>longitude</th>\n",
       "    </tr>\n",
       "  </thead>\n",
       "  <tbody>\n",
       "    <tr>\n",
       "      <th>492</th>\n",
       "      <td>49996</td>\n",
       "      <td>2022</td>\n",
       "      <td>7</td>\n",
       "      <td>2022-11-11 05:00:00+00</td>\n",
       "      <td>10048 Veree Road</td>\n",
       "      <td>48.0</td>\n",
       "      <td>M</td>\n",
       "      <td>Unit #2 reversing from driveway, stalled and d...</td>\n",
       "      <td>No</td>\n",
       "      <td>Auto</td>\n",
       "      <td>Auto</td>\n",
       "      <td>No</td>\n",
       "      <td>No Charges</td>\n",
       "      <td>NaN</td>\n",
       "      <td>40.106534</td>\n",
       "      <td>-75.030674</td>\n",
       "    </tr>\n",
       "    <tr>\n",
       "      <th>454</th>\n",
       "      <td>49959</td>\n",
       "      <td>2022</td>\n",
       "      <td>15</td>\n",
       "      <td>2022-08-01 04:00:00+00</td>\n",
       "      <td>Roosevelt Blvd.</td>\n",
       "      <td>30.0</td>\n",
       "      <td>M</td>\n",
       "      <td>Unit #2, (auto), N/B on Roosevelt Blvd in 7200...</td>\n",
       "      <td>No</td>\n",
       "      <td>M/C</td>\n",
       "      <td>Auto</td>\n",
       "      <td>No</td>\n",
       "      <td>Possible traffic violations only.</td>\n",
       "      <td>NaN</td>\n",
       "      <td>40.042724</td>\n",
       "      <td>-75.054886</td>\n",
       "    </tr>\n",
       "    <tr>\n",
       "      <th>491</th>\n",
       "      <td>49995</td>\n",
       "      <td>2022</td>\n",
       "      <td>35</td>\n",
       "      <td>2022-11-09 05:00:00+00</td>\n",
       "      <td>Ogontz Ave.</td>\n",
       "      <td>23.0</td>\n",
       "      <td>M</td>\n",
       "      <td>Skateboarder Eastbound on Medary Street proced...</td>\n",
       "      <td>No</td>\n",
       "      <td>Auto</td>\n",
       "      <td>Pedestrian</td>\n",
       "      <td>No</td>\n",
       "      <td>No Charges</td>\n",
       "      <td>NaN</td>\n",
       "      <td>40.050080</td>\n",
       "      <td>-75.150479</td>\n",
       "    </tr>\n",
       "  </tbody>\n",
       "</table>\n",
       "</div>"
      ],
      "text/plain": [
       "     crash_id  year  police_district              crash_date  \\\n",
       "492     49996  2022                7  2022-11-11 05:00:00+00   \n",
       "454     49959  2022               15  2022-08-01 04:00:00+00   \n",
       "491     49995  2022               35  2022-11-09 05:00:00+00   \n",
       "\n",
       "       primary_street   age victim_gender  \\\n",
       "492  10048 Veree Road  48.0             M   \n",
       "454   Roosevelt Blvd.  30.0             M   \n",
       "491       Ogontz Ave.  23.0             M   \n",
       "\n",
       "                                        collision_type hit_and_run  \\\n",
       "492  Unit #2 reversing from driveway, stalled and d...          No   \n",
       "454  Unit #2, (auto), N/B on Roosevelt Blvd in 7200...          No   \n",
       "491  Skateboarder Eastbound on Medary Street proced...          No   \n",
       "\n",
       "    primary_vehicle secondary_vehicle arrest_made  \\\n",
       "492            Auto              Auto          No   \n",
       "454             M/C              Auto          No   \n",
       "491            Auto        Pedestrian          No   \n",
       "\n",
       "                   investigation_status time   latitude  longitude  \n",
       "492                          No Charges  NaN  40.106534 -75.030674  \n",
       "454  Possible traffic violations only.   NaN  40.042724 -75.054886  \n",
       "491                          No Charges  NaN  40.050080 -75.150479  "
      ]
     },
     "execution_count": 4,
     "metadata": {},
     "output_type": "execute_result"
    }
   ],
   "source": [
    "df.sample(3)"
   ]
  },
  {
   "cell_type": "code",
   "execution_count": 5,
   "id": "552483e3",
   "metadata": {
    "execution": {
     "iopub.execute_input": "2025-05-30T06:15:25.206344Z",
     "iopub.status.busy": "2025-05-30T06:15:25.205796Z",
     "iopub.status.idle": "2025-05-30T06:15:25.232952Z",
     "shell.execute_reply": "2025-05-30T06:15:25.231711Z"
    },
    "papermill": {
     "duration": 0.034673,
     "end_time": "2025-05-30T06:15:25.235015",
     "exception": false,
     "start_time": "2025-05-30T06:15:25.200342",
     "status": "completed"
    },
    "tags": []
   },
   "outputs": [
    {
     "name": "stdout",
     "output_type": "stream",
     "text": [
      "<class 'pandas.core.frame.DataFrame'>\n",
      "RangeIndex: 797 entries, 0 to 796\n",
      "Data columns (total 16 columns):\n",
      " #   Column                Non-Null Count  Dtype  \n",
      "---  ------                --------------  -----  \n",
      " 0   crash_id              797 non-null    int64  \n",
      " 1   year                  797 non-null    int64  \n",
      " 2   police_district       797 non-null    int64  \n",
      " 3   crash_date            797 non-null    object \n",
      " 4   primary_street        797 non-null    object \n",
      " 5   age                   792 non-null    float64\n",
      " 6   victim_gender         796 non-null    object \n",
      " 7   collision_type        797 non-null    object \n",
      " 8   hit_and_run           797 non-null    object \n",
      " 9   primary_vehicle       797 non-null    object \n",
      " 10  secondary_vehicle     794 non-null    object \n",
      " 11  arrest_made           781 non-null    object \n",
      " 12  investigation_status  793 non-null    object \n",
      " 13  time                  292 non-null    object \n",
      " 14  latitude              783 non-null    float64\n",
      " 15  longitude             783 non-null    float64\n",
      "dtypes: float64(3), int64(3), object(10)\n",
      "memory usage: 99.8+ KB\n"
     ]
    }
   ],
   "source": [
    "df.info()"
   ]
  },
  {
   "cell_type": "code",
   "execution_count": 6,
   "id": "04e24525",
   "metadata": {
    "execution": {
     "iopub.execute_input": "2025-05-30T06:15:25.247029Z",
     "iopub.status.busy": "2025-05-30T06:15:25.246676Z",
     "iopub.status.idle": "2025-05-30T06:15:25.255473Z",
     "shell.execute_reply": "2025-05-30T06:15:25.254384Z"
    },
    "papermill": {
     "duration": 0.016409,
     "end_time": "2025-05-30T06:15:25.257311",
     "exception": false,
     "start_time": "2025-05-30T06:15:25.240902",
     "status": "completed"
    },
    "tags": []
   },
   "outputs": [
    {
     "data": {
      "text/plain": [
       "crash_id                  0\n",
       "year                      0\n",
       "police_district           0\n",
       "crash_date                0\n",
       "primary_street            0\n",
       "age                       5\n",
       "victim_gender             1\n",
       "collision_type            0\n",
       "hit_and_run               0\n",
       "primary_vehicle           0\n",
       "secondary_vehicle         3\n",
       "arrest_made              16\n",
       "investigation_status      4\n",
       "time                    505\n",
       "latitude                 14\n",
       "longitude                14\n",
       "dtype: int64"
      ]
     },
     "execution_count": 6,
     "metadata": {},
     "output_type": "execute_result"
    }
   ],
   "source": [
    "df.isnull().sum()"
   ]
  },
  {
   "cell_type": "code",
   "execution_count": 7,
   "id": "616a4b06",
   "metadata": {
    "execution": {
     "iopub.execute_input": "2025-05-30T06:15:25.268132Z",
     "iopub.status.busy": "2025-05-30T06:15:25.267813Z",
     "iopub.status.idle": "2025-05-30T06:15:25.295355Z",
     "shell.execute_reply": "2025-05-30T06:15:25.294435Z"
    },
    "papermill": {
     "duration": 0.034907,
     "end_time": "2025-05-30T06:15:25.297336",
     "exception": false,
     "start_time": "2025-05-30T06:15:25.262429",
     "status": "completed"
    },
    "tags": []
   },
   "outputs": [
    {
     "data": {
      "text/html": [
       "<div>\n",
       "<style scoped>\n",
       "    .dataframe tbody tr th:only-of-type {\n",
       "        vertical-align: middle;\n",
       "    }\n",
       "\n",
       "    .dataframe tbody tr th {\n",
       "        vertical-align: top;\n",
       "    }\n",
       "\n",
       "    .dataframe thead th {\n",
       "        text-align: right;\n",
       "    }\n",
       "</style>\n",
       "<table border=\"1\" class=\"dataframe\">\n",
       "  <thead>\n",
       "    <tr style=\"text-align: right;\">\n",
       "      <th></th>\n",
       "      <th>crash_id</th>\n",
       "      <th>year</th>\n",
       "      <th>police_district</th>\n",
       "      <th>age</th>\n",
       "      <th>latitude</th>\n",
       "      <th>longitude</th>\n",
       "    </tr>\n",
       "  </thead>\n",
       "  <tbody>\n",
       "    <tr>\n",
       "      <th>count</th>\n",
       "      <td>797.000000</td>\n",
       "      <td>797.000000</td>\n",
       "      <td>797.000000</td>\n",
       "      <td>792.000000</td>\n",
       "      <td>783.000000</td>\n",
       "      <td>783.000000</td>\n",
       "    </tr>\n",
       "    <tr>\n",
       "      <th>mean</th>\n",
       "      <td>49904.000000</td>\n",
       "      <td>2021.712673</td>\n",
       "      <td>18.398996</td>\n",
       "      <td>43.381313</td>\n",
       "      <td>40.011338</td>\n",
       "      <td>-75.156402</td>\n",
       "    </tr>\n",
       "    <tr>\n",
       "      <th>std</th>\n",
       "      <td>230.218375</td>\n",
       "      <td>1.749085</td>\n",
       "      <td>10.885373</td>\n",
       "      <td>18.796025</td>\n",
       "      <td>0.145391</td>\n",
       "      <td>0.337886</td>\n",
       "    </tr>\n",
       "    <tr>\n",
       "      <th>min</th>\n",
       "      <td>49506.000000</td>\n",
       "      <td>2019.000000</td>\n",
       "      <td>1.000000</td>\n",
       "      <td>0.000000</td>\n",
       "      <td>39.884438</td>\n",
       "      <td>-80.502372</td>\n",
       "    </tr>\n",
       "    <tr>\n",
       "      <th>25%</th>\n",
       "      <td>49705.000000</td>\n",
       "      <td>2020.000000</td>\n",
       "      <td>9.000000</td>\n",
       "      <td>29.000000</td>\n",
       "      <td>39.974730</td>\n",
       "      <td>-75.179779</td>\n",
       "    </tr>\n",
       "    <tr>\n",
       "      <th>50%</th>\n",
       "      <td>49904.000000</td>\n",
       "      <td>2022.000000</td>\n",
       "      <td>17.000000</td>\n",
       "      <td>40.000000</td>\n",
       "      <td>40.005485</td>\n",
       "      <td>-75.144203</td>\n",
       "    </tr>\n",
       "    <tr>\n",
       "      <th>75%</th>\n",
       "      <td>50103.000000</td>\n",
       "      <td>2023.000000</td>\n",
       "      <td>25.000000</td>\n",
       "      <td>58.000000</td>\n",
       "      <td>40.032948</td>\n",
       "      <td>-75.097440</td>\n",
       "    </tr>\n",
       "    <tr>\n",
       "      <th>max</th>\n",
       "      <td>50302.000000</td>\n",
       "      <td>2025.000000</td>\n",
       "      <td>77.000000</td>\n",
       "      <td>99.000000</td>\n",
       "      <td>42.224336</td>\n",
       "      <td>-74.961302</td>\n",
       "    </tr>\n",
       "  </tbody>\n",
       "</table>\n",
       "</div>"
      ],
      "text/plain": [
       "           crash_id         year  police_district         age    latitude  \\\n",
       "count    797.000000   797.000000       797.000000  792.000000  783.000000   \n",
       "mean   49904.000000  2021.712673        18.398996   43.381313   40.011338   \n",
       "std      230.218375     1.749085        10.885373   18.796025    0.145391   \n",
       "min    49506.000000  2019.000000         1.000000    0.000000   39.884438   \n",
       "25%    49705.000000  2020.000000         9.000000   29.000000   39.974730   \n",
       "50%    49904.000000  2022.000000        17.000000   40.000000   40.005485   \n",
       "75%    50103.000000  2023.000000        25.000000   58.000000   40.032948   \n",
       "max    50302.000000  2025.000000        77.000000   99.000000   42.224336   \n",
       "\n",
       "        longitude  \n",
       "count  783.000000  \n",
       "mean   -75.156402  \n",
       "std      0.337886  \n",
       "min    -80.502372  \n",
       "25%    -75.179779  \n",
       "50%    -75.144203  \n",
       "75%    -75.097440  \n",
       "max    -74.961302  "
      ]
     },
     "execution_count": 7,
     "metadata": {},
     "output_type": "execute_result"
    }
   ],
   "source": [
    "df.describe()"
   ]
  },
  {
   "cell_type": "code",
   "execution_count": 8,
   "id": "06b92160",
   "metadata": {
    "execution": {
     "iopub.execute_input": "2025-05-30T06:15:25.308765Z",
     "iopub.status.busy": "2025-05-30T06:15:25.308482Z",
     "iopub.status.idle": "2025-05-30T06:15:25.319952Z",
     "shell.execute_reply": "2025-05-30T06:15:25.318958Z"
    },
    "papermill": {
     "duration": 0.019323,
     "end_time": "2025-05-30T06:15:25.321779",
     "exception": false,
     "start_time": "2025-05-30T06:15:25.302456",
     "status": "completed"
    },
    "tags": []
   },
   "outputs": [],
   "source": [
    "df[\"crash_date\"] = df[\"crash_date\"].str.split().str[0]\n",
    "df[\"crash_date\"] = pd.to_datetime(df[\"crash_date\"])"
   ]
  },
  {
   "cell_type": "code",
   "execution_count": 9,
   "id": "4d543b1b",
   "metadata": {
    "execution": {
     "iopub.execute_input": "2025-05-30T06:15:25.333443Z",
     "iopub.status.busy": "2025-05-30T06:15:25.333092Z",
     "iopub.status.idle": "2025-05-30T06:15:25.340104Z",
     "shell.execute_reply": "2025-05-30T06:15:25.339221Z"
    },
    "papermill": {
     "duration": 0.014372,
     "end_time": "2025-05-30T06:15:25.341618",
     "exception": false,
     "start_time": "2025-05-30T06:15:25.327246",
     "status": "completed"
    },
    "tags": []
   },
   "outputs": [],
   "source": [
    "df.insert(\n",
    "    loc=df.columns.get_loc(\"crash_date\") + 1,\n",
    "    column=\"day_name\",\n",
    "    value=df[\"crash_date\"].dt.day_name(),\n",
    ")"
   ]
  },
  {
   "cell_type": "code",
   "execution_count": 10,
   "id": "1ed52441",
   "metadata": {
    "execution": {
     "iopub.execute_input": "2025-05-30T06:15:25.353298Z",
     "iopub.status.busy": "2025-05-30T06:15:25.352930Z",
     "iopub.status.idle": "2025-05-30T06:15:25.366732Z",
     "shell.execute_reply": "2025-05-30T06:15:25.365719Z"
    },
    "papermill": {
     "duration": 0.021384,
     "end_time": "2025-05-30T06:15:25.368403",
     "exception": false,
     "start_time": "2025-05-30T06:15:25.347019",
     "status": "completed"
    },
    "tags": []
   },
   "outputs": [],
   "source": [
    "df[\"age_group\"] = pd.cut(\n",
    "    df[\"age\"],\n",
    "    bins=[0, 18, 25, 35, 45, 55, 65, 75, 100],\n",
    "    labels=[\"0-18\", \"19-25\", \"26-35\", \"36-45\", \"46-55\", \"56-65\", \"66-75\", \"75+\"],\n",
    ")"
   ]
  },
  {
   "cell_type": "code",
   "execution_count": 11,
   "id": "54b736a8",
   "metadata": {
    "execution": {
     "iopub.execute_input": "2025-05-30T06:15:25.379882Z",
     "iopub.status.busy": "2025-05-30T06:15:25.379584Z",
     "iopub.status.idle": "2025-05-30T06:15:25.387470Z",
     "shell.execute_reply": "2025-05-30T06:15:25.386500Z"
    },
    "papermill": {
     "duration": 0.015251,
     "end_time": "2025-05-30T06:15:25.388945",
     "exception": false,
     "start_time": "2025-05-30T06:15:25.373694",
     "status": "completed"
    },
    "tags": []
   },
   "outputs": [
    {
     "data": {
      "text/plain": [
       "hit_and_run\n",
       "No     601\n",
       "Yes    194\n",
       "Unk      1\n",
       "??       1\n",
       "Name: count, dtype: int64"
      ]
     },
     "execution_count": 11,
     "metadata": {},
     "output_type": "execute_result"
    }
   ],
   "source": [
    "df[\"hit_and_run\"].value_counts()"
   ]
  },
  {
   "cell_type": "code",
   "execution_count": 12,
   "id": "945fd043",
   "metadata": {
    "execution": {
     "iopub.execute_input": "2025-05-30T06:15:25.400179Z",
     "iopub.status.busy": "2025-05-30T06:15:25.399814Z",
     "iopub.status.idle": "2025-05-30T06:15:25.405427Z",
     "shell.execute_reply": "2025-05-30T06:15:25.404564Z"
    },
    "papermill": {
     "duration": 0.013088,
     "end_time": "2025-05-30T06:15:25.407019",
     "exception": false,
     "start_time": "2025-05-30T06:15:25.393931",
     "status": "completed"
    },
    "tags": []
   },
   "outputs": [],
   "source": [
    "df[\"hit_and_run\"] = np.where(\n",
    "    df[\"hit_and_run\"] == \"Yes\", 1, np.where(df[\"hit_and_run\"] == \"No\", 0, np.nan)\n",
    ")"
   ]
  },
  {
   "cell_type": "code",
   "execution_count": 13,
   "id": "9d8ea65c",
   "metadata": {
    "execution": {
     "iopub.execute_input": "2025-05-30T06:15:25.418040Z",
     "iopub.status.busy": "2025-05-30T06:15:25.417728Z",
     "iopub.status.idle": "2025-05-30T06:15:25.425364Z",
     "shell.execute_reply": "2025-05-30T06:15:25.424463Z"
    },
    "papermill": {
     "duration": 0.014899,
     "end_time": "2025-05-30T06:15:25.426911",
     "exception": false,
     "start_time": "2025-05-30T06:15:25.412012",
     "status": "completed"
    },
    "tags": []
   },
   "outputs": [
    {
     "data": {
      "text/plain": [
       "arrest_made\n",
       "No               550\n",
       "Pending          147\n",
       "Yes               73\n",
       "No                 4\n",
       "TBD                2\n",
       "Pending ID         1\n",
       "Unk.               1\n",
       "Arrested           1\n",
       "None expected      1\n",
       "N                  1\n",
       "Name: count, dtype: int64"
      ]
     },
     "execution_count": 13,
     "metadata": {},
     "output_type": "execute_result"
    }
   ],
   "source": [
    "df[\"arrest_made\"].value_counts()"
   ]
  },
  {
   "cell_type": "code",
   "execution_count": 14,
   "id": "5916ed51",
   "metadata": {
    "execution": {
     "iopub.execute_input": "2025-05-30T06:15:25.438956Z",
     "iopub.status.busy": "2025-05-30T06:15:25.438521Z",
     "iopub.status.idle": "2025-05-30T06:15:25.444712Z",
     "shell.execute_reply": "2025-05-30T06:15:25.443759Z"
    },
    "papermill": {
     "duration": 0.01437,
     "end_time": "2025-05-30T06:15:25.446533",
     "exception": false,
     "start_time": "2025-05-30T06:15:25.432163",
     "status": "completed"
    },
    "tags": []
   },
   "outputs": [],
   "source": [
    "day_order = [\n",
    "    \"Monday\",\n",
    "    \"Tuesday\",\n",
    "    \"Wednesday\",\n",
    "    \"Thursday\",\n",
    "    \"Friday\",\n",
    "    \"Saturday\",\n",
    "    \"Sunday\",\n",
    "]\n",
    "df[\"day_name\"] = pd.Categorical(df[\"day_name\"], categories=day_order, ordered=True)"
   ]
  },
  {
   "cell_type": "code",
   "execution_count": 15,
   "id": "975966ff",
   "metadata": {
    "execution": {
     "iopub.execute_input": "2025-05-30T06:15:25.458079Z",
     "iopub.status.busy": "2025-05-30T06:15:25.457712Z",
     "iopub.status.idle": "2025-05-30T06:15:25.465898Z",
     "shell.execute_reply": "2025-05-30T06:15:25.465005Z"
    },
    "papermill": {
     "duration": 0.015859,
     "end_time": "2025-05-30T06:15:25.467678",
     "exception": false,
     "start_time": "2025-05-30T06:15:25.451819",
     "status": "completed"
    },
    "tags": []
   },
   "outputs": [
    {
     "data": {
      "text/plain": [
       "victim_gender\n",
       "M     577\n",
       "F     215\n",
       "Mn      1\n",
       "MN      1\n",
       "f       1\n",
       "M.      1\n",
       "Name: count, dtype: int64"
      ]
     },
     "execution_count": 15,
     "metadata": {},
     "output_type": "execute_result"
    }
   ],
   "source": [
    "df[\"victim_gender\"].value_counts()"
   ]
  },
  {
   "cell_type": "code",
   "execution_count": 16,
   "id": "d6eab4f2",
   "metadata": {
    "execution": {
     "iopub.execute_input": "2025-05-30T06:15:25.479425Z",
     "iopub.status.busy": "2025-05-30T06:15:25.479077Z",
     "iopub.status.idle": "2025-05-30T06:15:25.488466Z",
     "shell.execute_reply": "2025-05-30T06:15:25.487522Z"
    },
    "papermill": {
     "duration": 0.017391,
     "end_time": "2025-05-30T06:15:25.490206",
     "exception": false,
     "start_time": "2025-05-30T06:15:25.472815",
     "status": "completed"
    },
    "tags": []
   },
   "outputs": [
    {
     "data": {
      "text/plain": [
       "victim_gender\n",
       "M    580\n",
       "F    216\n",
       "Name: count, dtype: int64"
      ]
     },
     "execution_count": 16,
     "metadata": {},
     "output_type": "execute_result"
    }
   ],
   "source": [
    "gender_mapping = {\n",
    "    \"M\": \"M\",\n",
    "    \"F\": \"F\",\n",
    "    \"MN\": \"M\",\n",
    "    \"M.\": \"M\",\n",
    "    \"Mn\": \"M\",\n",
    "    \"f\": \"F\",\n",
    "}\n",
    "\n",
    "df[\"victim_gender\"] = df[\"victim_gender\"].map(gender_mapping)\n",
    "df[\"victim_gender\"].value_counts()"
   ]
  },
  {
   "cell_type": "code",
   "execution_count": 17,
   "id": "e6fc2e93",
   "metadata": {
    "execution": {
     "iopub.execute_input": "2025-05-30T06:15:25.502946Z",
     "iopub.status.busy": "2025-05-30T06:15:25.502623Z",
     "iopub.status.idle": "2025-05-30T06:15:25.511000Z",
     "shell.execute_reply": "2025-05-30T06:15:25.510082Z"
    },
    "papermill": {
     "duration": 0.01618,
     "end_time": "2025-05-30T06:15:25.512608",
     "exception": false,
     "start_time": "2025-05-30T06:15:25.496428",
     "status": "completed"
    },
    "tags": []
   },
   "outputs": [
    {
     "data": {
      "text/plain": [
       "primary_vehicle\n",
       "Auto                  624\n",
       "M/C                    78\n",
       "Motorcycle             29\n",
       "Auto                   10\n",
       "Dirtbike                9\n",
       "Train                   9\n",
       "Bus                     4\n",
       "ATV                     4\n",
       "Quad                    2\n",
       "Bicyclist               2\n",
       "Bike                    2\n",
       "SEPTA Bus               2\n",
       "Motor Scooter           2\n",
       "Dirt Bike               2\n",
       "Auto (Mack TK)          1\n",
       "School Bus              1\n",
       "Tree                    1\n",
       "PFD Ladder TK           1\n",
       "SEPTA Trolley           1\n",
       "SEPTA Subway Train      1\n",
       "Ambulance               1\n",
       "Pedestrian              1\n",
       "Tow truck               1\n",
       "Van                     1\n",
       "T/T                     1\n",
       "Moped                   1\n",
       "Septa bus               1\n",
       "Truck                   1\n",
       "Trolley Car             1\n",
       "unk                     1\n",
       "Auto (Police)           1\n",
       "Can Am Slingshot        1\n",
       "Name: count, dtype: int64"
      ]
     },
     "execution_count": 17,
     "metadata": {},
     "output_type": "execute_result"
    }
   ],
   "source": [
    "df[\"primary_vehicle\"].value_counts()"
   ]
  },
  {
   "cell_type": "code",
   "execution_count": 18,
   "id": "b6b0ad8c",
   "metadata": {
    "execution": {
     "iopub.execute_input": "2025-05-30T06:15:25.525526Z",
     "iopub.status.busy": "2025-05-30T06:15:25.525204Z",
     "iopub.status.idle": "2025-05-30T06:15:25.542882Z",
     "shell.execute_reply": "2025-05-30T06:15:25.541836Z"
    },
    "papermill": {
     "duration": 0.026101,
     "end_time": "2025-05-30T06:15:25.544393",
     "exception": false,
     "start_time": "2025-05-30T06:15:25.518292",
     "status": "completed"
    },
    "tags": []
   },
   "outputs": [
    {
     "name": "stdout",
     "output_type": "stream",
     "text": [
      "primary_vehicle\n",
      "Auto          627\n",
      "Motorcycle    121\n",
      "Commercial     13\n",
      "Others         12\n",
      "Train          10\n",
      "Off-road        7\n",
      "Bicycle         4\n",
      "Pedestrian      1\n",
      "Trolley         1\n",
      "Object          1\n",
      "Name: count, dtype: int64\n"
     ]
    }
   ],
   "source": [
    "vehicle_mapping = {\n",
    "    \"Dirt Bike\": \"Dirtbike\",\n",
    "    \"SEPTA Bus\": \"Bus\",\n",
    "    \"Septa bus\": \"Bus\",\n",
    "    \"Motor Scooter\": \"Moped\",\n",
    "    \"T/T\": \"Truck\",\n",
    "    \"Auto (Police)\": \"Auto\",\n",
    "    \"Auto (Mack TK)\": \"Auto\",\n",
    "    \"SEPTA Trolley\": \"Trolley\",\n",
    "    \"SEPTA Subway Train\": \"Train\",\n",
    "    \"PFD Ladder TK\": \"Truck\",\n",
    "    \"Can Am Slingshot\": \"ATV\",\n",
    "}\n",
    "df[\"primary_vehicle\"] = df[\"primary_vehicle\"].replace(vehicle_mapping)\n",
    "vehicle_categories = {\n",
    "    \"M/C\": \"Motorcycle\",\n",
    "    \"Auto\": \"Auto\",\n",
    "    \"Motorcycle\": \"Motorcycle\",\n",
    "    \"Dirtbike\": \"Motorcycle\",\n",
    "    \"Bike\": \"Bicycle\",\n",
    "    \"Bicyclist\": \"Bicycle\",\n",
    "    \"Bus\": \"Commercial\",\n",
    "    \"School Bus\": \"Commercial\",\n",
    "    \"Truck\": \"Commercial\",\n",
    "    \"Tow truck\": \"Commercial\",\n",
    "    \"Ambulance\": \"Commercial\",\n",
    "    \"Train\": \"Train\",\n",
    "    \"Trolley\": \"Trolley\",\n",
    "    \"ATV\": \"Off-road\",\n",
    "    \"Quad\": \"Off-road\",\n",
    "    \"Moped\": \"Motorcycle\",\n",
    "    \"Van\": \"Auto\",\n",
    "    \"Pedestrian\": \"Pedestrian\",\n",
    "    \"Tree\": \"Object\",\n",
    "}\n",
    "df[\"primary_vehicle\"] = df[\"primary_vehicle\"].map(vehicle_categories)\n",
    "\n",
    "\n",
    "unmapped = df[df[\"primary_vehicle\"].isna()][\"primary_vehicle\"].unique()\n",
    "\n",
    "\n",
    "df[\"primary_vehicle\"] = df[\"primary_vehicle\"].fillna(\"Others\")\n",
    "print(df[\"primary_vehicle\"].value_counts())"
   ]
  },
  {
   "cell_type": "code",
   "execution_count": 19,
   "id": "86d684d5",
   "metadata": {
    "execution": {
     "iopub.execute_input": "2025-05-30T06:15:25.556226Z",
     "iopub.status.busy": "2025-05-30T06:15:25.555897Z",
     "iopub.status.idle": "2025-05-30T06:15:25.563808Z",
     "shell.execute_reply": "2025-05-30T06:15:25.562819Z"
    },
    "papermill": {
     "duration": 0.015675,
     "end_time": "2025-05-30T06:15:25.565359",
     "exception": false,
     "start_time": "2025-05-30T06:15:25.549684",
     "status": "completed"
    },
    "tags": []
   },
   "outputs": [
    {
     "data": {
      "text/plain": [
       "secondary_vehicle\n",
       "Pedestrian               316\n",
       "Auto                     234\n",
       "Fixed Object             137\n",
       "Bicycle                   17\n",
       "Bicyclist                 10\n",
       "M/C                        9\n",
       "Parked veh.                8\n",
       "Tree                       6\n",
       "Parked                     4\n",
       "Scooter                    4\n",
       "Bus                        4\n",
       "Motorcycle                 3\n",
       "E-Scooter                  3\n",
       "Ground                     3\n",
       "Parked Trailer             3\n",
       "Fixed object               3\n",
       "Dirt-bike                  3\n",
       "Front-end loader           2\n",
       "M/C and PED                2\n",
       "Auto (Parked)              2\n",
       "Trolley car                2\n",
       "Parked auto                2\n",
       "Tractor-Trailer            2\n",
       "Mini-bike                  2\n",
       "Truck                      1\n",
       "Parked autos               1\n",
       "Pedestrian on scooter      1\n",
       "ATV                        1\n",
       "T/T                        1\n",
       "E-Bicycle                  1\n",
       "School Bus                 1\n",
       "Dirtbike                   1\n",
       "Ped on skateboard          1\n",
       "Moped                      1\n",
       "Auto                       1\n",
       "Pedestrians                1\n",
       "Parked TT                  1\n",
       "Name: count, dtype: int64"
      ]
     },
     "execution_count": 19,
     "metadata": {},
     "output_type": "execute_result"
    }
   ],
   "source": [
    "df[\"secondary_vehicle\"].value_counts()"
   ]
  },
  {
   "cell_type": "code",
   "execution_count": 20,
   "id": "bebd437e",
   "metadata": {
    "execution": {
     "iopub.execute_input": "2025-05-30T06:15:25.577507Z",
     "iopub.status.busy": "2025-05-30T06:15:25.577216Z",
     "iopub.status.idle": "2025-05-30T06:15:25.593548Z",
     "shell.execute_reply": "2025-05-30T06:15:25.592366Z"
    },
    "papermill": {
     "duration": 0.024429,
     "end_time": "2025-05-30T06:15:25.595236",
     "exception": false,
     "start_time": "2025-05-30T06:15:25.570807",
     "status": "completed"
    },
    "tags": []
   },
   "outputs": [
    {
     "data": {
      "text/plain": [
       "secondary_vehicle\n",
       "Pedestrian            319\n",
       "Auto                  234\n",
       "Fixed Object          140\n",
       "Bicycle                28\n",
       "Motorcycle             26\n",
       "Parked Vehicle         18\n",
       "Bus                     5\n",
       "Truck                   4\n",
       "Ground                  3\n",
       "Trailer                 3\n",
       "Trolley                 2\n",
       "Mixed                   2\n",
       "Commercial Vehicle      2\n",
       "Off-road                1\n",
       "Name: count, dtype: int64"
      ]
     },
     "execution_count": 20,
     "metadata": {},
     "output_type": "execute_result"
    }
   ],
   "source": [
    "standardization_map = {\n",
    "    \"Pedestrian on scooter\": \"Pedestrian\",\n",
    "    \"Ped on skateboard\": \"Pedestrian\",\n",
    "    \"Pedestrians\": \"Pedestrian\",\n",
    "    \"Parked veh.\": \"Parked Vehicle\",\n",
    "    \"Parked auto\": \"Parked Vehicle\",\n",
    "    \"Parked autos\": \"Parked Vehicle\",\n",
    "    \"Auto (Parked)\": \"Parked Vehicle\",\n",
    "    \"Parked\": \"Parked Vehicle\",\n",
    "    \"Parked TT\": \"Parked Vehicle\",\n",
    "    \"T/T\": \"Truck\",\n",
    "    \"Tractor-Trailer\": \"Truck\",\n",
    "    \"Dirt-bike\": \"Dirtbike\",\n",
    "    \"Mini-bike\": \"Dirtbike\",\n",
    "    \"E-Scooter\": \"Scooter\",\n",
    "    \"E-Bicycle\": \"Bicycle\",\n",
    "    \"Bicyclist\": \"Bicycle\",\n",
    "    \"Fixed object\": \"Fixed Object\",\n",
    "    \"Trolley car\": \"Trolley\",\n",
    "    \"M/C and PED\": \"Motorcycle + Pedestrian\",\n",
    "    \"School Bus\": \"Bus\",\n",
    "    \"Front-end loader\": \"Construction Equipment\",\n",
    "}\n",
    "\n",
    "df[\"secondary_vehicle\"] = df[\"secondary_vehicle\"].replace(standardization_map)\n",
    "main_categories = {\n",
    "    \"Pedestrian\": \"Pedestrian\",\n",
    "    \"Auto\": \"Auto\",\n",
    "    \"Fixed Object\": \"Fixed Object\",\n",
    "    \"Bicycle\": \"Bicycle\",\n",
    "    \"M/C\": \"Motorcycle\",\n",
    "    \"Parked Vehicle\": \"Parked Vehicle\",\n",
    "    \"Bus\": \"Bus\",\n",
    "    \"Dirtbike\": \"Motorcycle\",\n",
    "    \"Scooter\": \"Motorcycle\",\n",
    "    \"Motorcycle\": \"Motorcycle\",\n",
    "    \"Truck\": \"Truck\",\n",
    "    \"Trolley\": \"Trolley\",\n",
    "    \"Ground\": \"Ground\",\n",
    "    \"Parked Trailer\": \"Trailer\",\n",
    "    \"ATV\": \"Off-road\",\n",
    "    \"Moped\": \"Motorcycle\",\n",
    "    \"Construction Equipment\": \"Commercial Vehicle\",\n",
    "    \"Motorcycle + Pedestrian\": \"Mixed\",\n",
    "}\n",
    "df[\"secondary_vehicle\"] = df[\"secondary_vehicle\"].map(main_categories)\n",
    "df[\"secondary_vehicle\"].value_counts()"
   ]
  },
  {
   "cell_type": "code",
   "execution_count": 21,
   "id": "63283026",
   "metadata": {
    "execution": {
     "iopub.execute_input": "2025-05-30T06:15:25.607651Z",
     "iopub.status.busy": "2025-05-30T06:15:25.607382Z",
     "iopub.status.idle": "2025-05-30T06:15:25.633308Z",
     "shell.execute_reply": "2025-05-30T06:15:25.632088Z"
    },
    "papermill": {
     "duration": 0.03411,
     "end_time": "2025-05-30T06:15:25.635069",
     "exception": false,
     "start_time": "2025-05-30T06:15:25.600959",
     "status": "completed"
    },
    "tags": []
   },
   "outputs": [
    {
     "name": "stdout",
     "output_type": "stream",
     "text": [
      "<class 'pandas.core.frame.DataFrame'>\n",
      "RangeIndex: 797 entries, 0 to 796\n",
      "Data columns (total 18 columns):\n",
      " #   Column                Non-Null Count  Dtype         \n",
      "---  ------                --------------  -----         \n",
      " 0   crash_id              797 non-null    Int64         \n",
      " 1   year                  797 non-null    int32         \n",
      " 2   police_district       797 non-null    category      \n",
      " 3   crash_date            797 non-null    datetime64[ns]\n",
      " 4   day_name              797 non-null    category      \n",
      " 5   primary_street        797 non-null    string        \n",
      " 6   age                   792 non-null    Float64       \n",
      " 7   victim_gender         796 non-null    category      \n",
      " 8   collision_type        797 non-null    string        \n",
      " 9   hit_and_run           797 non-null    bool          \n",
      " 10  primary_vehicle       797 non-null    category      \n",
      " 11  secondary_vehicle     787 non-null    category      \n",
      " 12  arrest_made           781 non-null    category      \n",
      " 13  investigation_status  793 non-null    string        \n",
      " 14  time                  292 non-null    object        \n",
      " 15  latitude              783 non-null    float64       \n",
      " 16  longitude             783 non-null    float64       \n",
      " 17  age_group             790 non-null    category      \n",
      "dtypes: Float64(1), Int64(1), bool(1), category(7), datetime64[ns](1), float64(2), int32(1), object(1), string(3)\n",
      "memory usage: 70.0+ KB\n"
     ]
    }
   ],
   "source": [
    "data_types = {\n",
    "    'crash_id': 'Int64',\n",
    "    'year': 'int32',\n",
    "    'police_district': 'category',\n",
    "    'crash_date': 'datetime64[ns]',\n",
    "    'day_name': 'category',\n",
    "    'primary_street': 'string',\n",
    "    'age': 'Float64',\n",
    "    'victim_gender': 'category',\n",
    "    'collision_type': 'string',\n",
    "    'hit_and_run': 'bool',\n",
    "    'primary_vehicle': 'category',\n",
    "    'secondary_vehicle': 'category',\n",
    "    'arrest_made': 'category',\n",
    "    'investigation_status': 'string',\n",
    "    'time': 'object',\n",
    "    'latitude': 'float64',\n",
    "    'longitude': 'float64',\n",
    "    'age_group': 'category'\n",
    "}\n",
    "df = df.astype(data_types)\n",
    "df.info()"
   ]
  },
  {
   "cell_type": "code",
   "execution_count": 22,
   "id": "657cd265",
   "metadata": {
    "execution": {
     "iopub.execute_input": "2025-05-30T06:15:25.648134Z",
     "iopub.status.busy": "2025-05-30T06:15:25.647816Z",
     "iopub.status.idle": "2025-05-30T06:15:25.675641Z",
     "shell.execute_reply": "2025-05-30T06:15:25.674651Z"
    },
    "papermill": {
     "duration": 0.036731,
     "end_time": "2025-05-30T06:15:25.677400",
     "exception": false,
     "start_time": "2025-05-30T06:15:25.640669",
     "status": "completed"
    },
    "tags": []
   },
   "outputs": [],
   "source": [
    "df.to_csv(\"/kaggle/working/philadelphia_fatal_crashes_clean.csv\")"
   ]
  },
  {
   "cell_type": "code",
   "execution_count": 23,
   "id": "9a20dcd2",
   "metadata": {
    "execution": {
     "iopub.execute_input": "2025-05-30T06:15:25.690543Z",
     "iopub.status.busy": "2025-05-30T06:15:25.690250Z",
     "iopub.status.idle": "2025-05-30T06:15:25.714038Z",
     "shell.execute_reply": "2025-05-30T06:15:25.712841Z"
    },
    "papermill": {
     "duration": 0.032378,
     "end_time": "2025-05-30T06:15:25.715629",
     "exception": false,
     "start_time": "2025-05-30T06:15:25.683251",
     "status": "completed"
    },
    "tags": []
   },
   "outputs": [
    {
     "data": {
      "text/html": [
       "<div>\n",
       "<style scoped>\n",
       "    .dataframe tbody tr th:only-of-type {\n",
       "        vertical-align: middle;\n",
       "    }\n",
       "\n",
       "    .dataframe tbody tr th {\n",
       "        vertical-align: top;\n",
       "    }\n",
       "\n",
       "    .dataframe thead th {\n",
       "        text-align: right;\n",
       "    }\n",
       "</style>\n",
       "<table border=\"1\" class=\"dataframe\">\n",
       "  <thead>\n",
       "    <tr style=\"text-align: right;\">\n",
       "      <th></th>\n",
       "      <th>crash_id</th>\n",
       "      <th>year</th>\n",
       "      <th>police_district</th>\n",
       "      <th>crash_date</th>\n",
       "      <th>day_name</th>\n",
       "      <th>primary_street</th>\n",
       "      <th>age</th>\n",
       "      <th>victim_gender</th>\n",
       "      <th>collision_type</th>\n",
       "      <th>hit_and_run</th>\n",
       "      <th>primary_vehicle</th>\n",
       "      <th>secondary_vehicle</th>\n",
       "      <th>arrest_made</th>\n",
       "      <th>investigation_status</th>\n",
       "      <th>time</th>\n",
       "      <th>latitude</th>\n",
       "      <th>longitude</th>\n",
       "      <th>age_group</th>\n",
       "    </tr>\n",
       "  </thead>\n",
       "  <tbody>\n",
       "    <tr>\n",
       "      <th>467</th>\n",
       "      <td>49972</td>\n",
       "      <td>2022</td>\n",
       "      <td>25</td>\n",
       "      <td>2022-09-03</td>\n",
       "      <td>Saturday</td>\n",
       "      <td>Rising Sun Ave.</td>\n",
       "      <td>68.0</td>\n",
       "      <td>M</td>\n",
       "      <td>Pedestrian crossing Rising Sun Ave. when struc...</td>\n",
       "      <td>False</td>\n",
       "      <td>Auto</td>\n",
       "      <td>Pedestrian</td>\n",
       "      <td>No</td>\n",
       "      <td>None expected.</td>\n",
       "      <td>NaN</td>\n",
       "      <td>40.022998</td>\n",
       "      <td>-75.124661</td>\n",
       "      <td>66-75</td>\n",
       "    </tr>\n",
       "    <tr>\n",
       "      <th>380</th>\n",
       "      <td>49885</td>\n",
       "      <td>2022</td>\n",
       "      <td>19</td>\n",
       "      <td>2022-01-02</td>\n",
       "      <td>Sunday</td>\n",
       "      <td>Conshocken Ave.</td>\n",
       "      <td>28.0</td>\n",
       "      <td>M</td>\n",
       "      <td>Unit #1, travelling E/B on Conshocken Ave., st...</td>\n",
       "      <td>False</td>\n",
       "      <td>Auto</td>\n",
       "      <td>Bus</td>\n",
       "      <td>No</td>\n",
       "      <td>No arrest. Driver deceased.</td>\n",
       "      <td>NaN</td>\n",
       "      <td>40.001254</td>\n",
       "      <td>-75.215358</td>\n",
       "      <td>26-35</td>\n",
       "    </tr>\n",
       "    <tr>\n",
       "      <th>795</th>\n",
       "      <td>50301</td>\n",
       "      <td>2025</td>\n",
       "      <td>24</td>\n",
       "      <td>2025-05-18</td>\n",
       "      <td>Sunday</td>\n",
       "      <td>Kensington Ave.</td>\n",
       "      <td>36.0</td>\n",
       "      <td>M</td>\n",
       "      <td>Unit #1 was traveling north on Kensington Ave....</td>\n",
       "      <td>False</td>\n",
       "      <td>Off-road</td>\n",
       "      <td>Auto</td>\n",
       "      <td>No</td>\n",
       "      <td>Active investigation</td>\n",
       "      <td>21:17:00</td>\n",
       "      <td>40.003864</td>\n",
       "      <td>-75.100894</td>\n",
       "      <td>36-45</td>\n",
       "    </tr>\n",
       "    <tr>\n",
       "      <th>659</th>\n",
       "      <td>50163</td>\n",
       "      <td>2024</td>\n",
       "      <td>18</td>\n",
       "      <td>2024-04-24</td>\n",
       "      <td>Wednesday</td>\n",
       "      <td>3600 Spruce St.</td>\n",
       "      <td>55.0</td>\n",
       "      <td>M</td>\n",
       "      <td>Unit #1 was eastbound on Spruce St. in the wes...</td>\n",
       "      <td>True</td>\n",
       "      <td>Auto</td>\n",
       "      <td>Pedestrian</td>\n",
       "      <td>No</td>\n",
       "      <td>Active investigation</td>\n",
       "      <td>05:33:00</td>\n",
       "      <td>39.950346</td>\n",
       "      <td>-75.196966</td>\n",
       "      <td>46-55</td>\n",
       "    </tr>\n",
       "    <tr>\n",
       "      <th>743</th>\n",
       "      <td>50248</td>\n",
       "      <td>2024</td>\n",
       "      <td>3</td>\n",
       "      <td>2024-11-14</td>\n",
       "      <td>Thursday</td>\n",
       "      <td>1046 Jackson St.</td>\n",
       "      <td>81.0</td>\n",
       "      <td>M</td>\n",
       "      <td>Unit #1 was traveling west on Jackson St. when...</td>\n",
       "      <td>False</td>\n",
       "      <td>Auto</td>\n",
       "      <td>Auto</td>\n",
       "      <td>No</td>\n",
       "      <td>The deceased suffered a heart attack while dri...</td>\n",
       "      <td>10:27:00</td>\n",
       "      <td>39.922400</td>\n",
       "      <td>-75.164481</td>\n",
       "      <td>75+</td>\n",
       "    </tr>\n",
       "  </tbody>\n",
       "</table>\n",
       "</div>"
      ],
      "text/plain": [
       "     crash_id  year police_district crash_date   day_name    primary_street  \\\n",
       "467     49972  2022              25 2022-09-03   Saturday   Rising Sun Ave.   \n",
       "380     49885  2022              19 2022-01-02     Sunday   Conshocken Ave.   \n",
       "795     50301  2025              24 2025-05-18     Sunday   Kensington Ave.   \n",
       "659     50163  2024              18 2024-04-24  Wednesday   3600 Spruce St.   \n",
       "743     50248  2024               3 2024-11-14   Thursday  1046 Jackson St.   \n",
       "\n",
       "      age victim_gender                                     collision_type  \\\n",
       "467  68.0             M  Pedestrian crossing Rising Sun Ave. when struc...   \n",
       "380  28.0             M  Unit #1, travelling E/B on Conshocken Ave., st...   \n",
       "795  36.0             M  Unit #1 was traveling north on Kensington Ave....   \n",
       "659  55.0             M  Unit #1 was eastbound on Spruce St. in the wes...   \n",
       "743  81.0             M  Unit #1 was traveling west on Jackson St. when...   \n",
       "\n",
       "     hit_and_run primary_vehicle secondary_vehicle arrest_made  \\\n",
       "467        False            Auto        Pedestrian          No   \n",
       "380        False            Auto               Bus          No   \n",
       "795        False        Off-road              Auto          No   \n",
       "659         True            Auto        Pedestrian          No   \n",
       "743        False            Auto              Auto          No   \n",
       "\n",
       "                                  investigation_status      time   latitude  \\\n",
       "467                                     None expected.       NaN  40.022998   \n",
       "380                        No arrest. Driver deceased.       NaN  40.001254   \n",
       "795                               Active investigation  21:17:00  40.003864   \n",
       "659                               Active investigation  05:33:00  39.950346   \n",
       "743  The deceased suffered a heart attack while dri...  10:27:00  39.922400   \n",
       "\n",
       "     longitude age_group  \n",
       "467 -75.124661     66-75  \n",
       "380 -75.215358     26-35  \n",
       "795 -75.100894     36-45  \n",
       "659 -75.196966     46-55  \n",
       "743 -75.164481       75+  "
      ]
     },
     "execution_count": 23,
     "metadata": {},
     "output_type": "execute_result"
    }
   ],
   "source": [
    "df.sample(5)"
   ]
  }
 ],
 "metadata": {
  "kaggle": {
   "accelerator": "none",
   "dataSources": [],
   "dockerImageVersionId": 31040,
   "isGpuEnabled": false,
   "isInternetEnabled": true,
   "language": "python",
   "sourceType": "notebook"
  },
  "kernelspec": {
   "display_name": "Python 3",
   "language": "python",
   "name": "python3"
  },
  "language_info": {
   "codemirror_mode": {
    "name": "ipython",
    "version": 3
   },
   "file_extension": ".py",
   "mimetype": "text/x-python",
   "name": "python",
   "nbconvert_exporter": "python",
   "pygments_lexer": "ipython3",
   "version": "3.11.11"
  },
  "papermill": {
   "default_parameters": {},
   "duration": 10.042624,
   "end_time": "2025-05-30T06:15:26.345140",
   "environment_variables": {},
   "exception": null,
   "input_path": "__notebook__.ipynb",
   "output_path": "__notebook__.ipynb",
   "parameters": {},
   "start_time": "2025-05-30T06:15:16.302516",
   "version": "2.6.0"
  }
 },
 "nbformat": 4,
 "nbformat_minor": 5
}
